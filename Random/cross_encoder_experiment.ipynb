{
 "cells": [
  {
   "cell_type": "code",
   "execution_count": 1,
   "metadata": {},
   "outputs": [],
   "source": [
    "from sentence_transformers import CrossEncoder\n",
    "model = CrossEncoder(\"cross-encoder/stsb-distilroberta-base\")"
   ]
  },
  {
   "cell_type": "code",
   "execution_count": null,
   "metadata": {},
   "outputs": [],
   "source": [
    "from guidance import models, gen, select\n",
    "import guidance\n",
    "language_model = 'TheBloke/CapybaraHermes-2.5-Mistral-7B-GPTQ'\n",
    "lm = models.Transformers(language_model, device_map=\"cuda\", echo=False)"
   ]
  },
  {
   "cell_type": "code",
   "execution_count": null,
   "metadata": {},
   "outputs": [],
   "source": [
    "import os\n",
    "script_dir = r\"C:\\Users\\User\\Desktop\\Projects\\Lucid\\Random\"\n",
    "script_file_path = f'{script_dir}\\\\modified_file.txt'\n",
    "with open(script_file_path, 'r') as input_file:\n",
    "    script = input_file.read()\n",
    "print(script[:500])"
   ]
  },
  {
   "cell_type": "code",
   "execution_count": 5,
   "metadata": {},
   "outputs": [
    {
     "data": {
      "text/plain": [
       "array([0.15719496], dtype=float32)"
      ]
     },
     "execution_count": 5,
     "metadata": {},
     "output_type": "execute_result"
    }
   ],
   "source": [
    "model.predict([[\"I hate my life\",\"I love my life\"]])"
   ]
  },
  {
   "cell_type": "code",
   "execution_count": null,
   "metadata": {},
   "outputs": [],
   "source": [
    "script_list = script[2:].split(sep=\"\\n\\n- \")\n"
   ]
  },
  {
   "cell_type": "code",
   "execution_count": null,
   "metadata": {},
   "outputs": [],
   "source": [
    "def create_sentence_groups(sentences, group_size=12):\n",
    "    result_groups = []\n",
    "    \n",
    "    for i in range(0, len(sentences), group_size):\n",
    "        group = sentences[i:i + group_size]\n",
    "        \n",
    "        if i > 0:\n",
    "            # If not the first group, use the last two sentences of the previous group\n",
    "            group[:2] = result_groups[-1][-2:] if len(result_groups[-1]) >= 2 else result_groups[-1]\n",
    "        \n",
    "        result_groups.append(group)\n",
    "    \n",
    "    # Check if the last group has fewer than 12 sentences\n",
    "    #if len(result_groups[-1]) < group_size:\n",
    "    #    # Leave the remaining sentences in the last group\n",
    "    #    result_groups[-1] = sentences[len(result_groups) * group_size:]\n",
    "    \n",
    "    return result_groups\n",
    "\n",
    "# Example usage:\n",
    "sentences_list = [\n",
    "    \"Sentence 1\", \"Sentence 2\", \"Sentence 3\", \"Sentence 4\",\n",
    "    \"Sentence 5\", \"Sentence 6\", \"Sentence 7\", \"Sentence 8\",\n",
    "    \"Sentence 9\", \"Sentence 10\", \"Sentence 11\", \"Sentence 12\",\n",
    "    # Add more sentences as needed\n",
    "]\n",
    "\n",
    "result_groups = create_sentence_groups(script_list, group_size= 10)\n",
    "\n",
    "# Print the result groups\n",
    "for group in result_groups:\n",
    "    print(group)\n",
    "print(len(result_groups))\n"
   ]
  },
  {
   "cell_type": "code",
   "execution_count": null,
   "metadata": {},
   "outputs": [],
   "source": [
    "conversation_chunk_list = []\n",
    "for i in result_groups:\n",
    "    conversation_chunk_list.append('- '+'\\n- '.join(i))\n",
    "print(conversation_chunk_list[0])"
   ]
  },
  {
   "cell_type": "code",
   "execution_count": null,
   "metadata": {},
   "outputs": [],
   "source": [
    "summary_list = []\n",
    "\n",
    "#for i in conversation_chunk_list:\n",
    "i = conversation_chunk_list[0]\n",
    "@guidance(stateless=True)\n",
    "def write_summary(lm, conversation):\n",
    "    prompt = f\"\"\"You are a helpful assistant.\n",
    "Write a concise summary of the following conversation transcript:\n",
    "{conversation}\n",
    "\n",
    "CONCISE SUMMARY: {gen(name=\"Summary\")}\"\"\"\n",
    "    lm += prompt\n",
    "    return lm\n",
    "\n",
    "def get_summary(lm, conversation):\n",
    "    lm+=write_summary(conversation=conversation)\n",
    "    return lm['Summary']\n",
    "\n",
    "for i in conversation_chunk_list:\n",
    "    summary_list.append(get_summary(lm, i))"
   ]
  },
  {
   "cell_type": "code",
   "execution_count": null,
   "metadata": {},
   "outputs": [],
   "source": [
    "import chromadb\n",
    "client = chromadb.Client()\n",
    "embedding_collection = client.get_or_create_collection('Summary')\n"
   ]
  },
  {
   "cell_type": "code",
   "execution_count": null,
   "metadata": {},
   "outputs": [],
   "source": [
    "i = 1\n",
    "for item in summary_list:\n",
    "    embedding_collection.add(\n",
    "        documents=[item],\n",
    "        ids=[str(i)],\n",
    "    )\n",
    "    i += 1"
   ]
  },
  {
   "cell_type": "code",
   "execution_count": null,
   "metadata": {},
   "outputs": [],
   "source": [
    "summary_embeddings = embedding_collection.get(include=['embeddings'])['embeddings']\n",
    "print(summary_embeddings)"
   ]
  },
  {
   "cell_type": "code",
   "execution_count": null,
   "metadata": {},
   "outputs": [],
   "source": [
    "import umap.umap_ as umap\n",
    "import matplotlib.pyplot as plt\n",
    "reducer = umap.UMAP()\n",
    "reducer.fit(summary_embeddings)"
   ]
  },
  {
   "cell_type": "code",
   "execution_count": null,
   "metadata": {},
   "outputs": [],
   "source": [
    "import matplotlib.pyplot as plt\n",
    "import numpy as np\n",
    "\n",
    "the_array = reducer.transform(summary_embeddings)\n",
    "x_array = [point[0] for point in the_array]\n",
    "y_array = [point[1] for point in the_array]\n",
    "\n",
    "plt.scatter(x_array, y_array, c=range(len(x_array)), cmap='RdBu')\n",
    "\n",
    "# Annotate each point with its number\n",
    "for i, (x, y) in enumerate(zip(x_array, y_array)):\n",
    "    plt.text(x, y, str(i + 1), fontsize=8, ha='right', va='bottom')\n",
    "\n",
    "# Add lines and arrows indicating the directions with color gradient\n",
    "colors = plt.cm.RdBu(np.linspace(0, 1, len(x_array) - 1))  # Generate a gradient from red to blue\n",
    "\n",
    "for i in range(len(x_array) - 1):\n",
    "    plt.arrow(x_array[i], y_array[i], x_array[i + 1] - x_array[i], y_array[i + 1] - y_array[i],\n",
    "              color=colors[i], shape='full', lw=0.08, length_includes_head=True, head_width=0.1)\n",
    "\n",
    "plt.show()\n"
   ]
  },
  {
   "cell_type": "code",
   "execution_count": null,
   "metadata": {},
   "outputs": [],
   "source": [
    "plt.scatter(x_array, y_array)"
   ]
  },
  {
   "cell_type": "code",
   "execution_count": null,
   "metadata": {},
   "outputs": [],
   "source": [
    "import matplotlib.pyplot as plt\n",
    "import numpy as np\n",
    "\n",
    "def calculate_distance(point1, point2):\n",
    "    return np.sqrt((point2[0] - point1[0])**2 + (point2[1] - point1[1])**2)\n",
    "\n",
    "def moving_average(data, window_size):\n",
    "    weights = np.ones(window_size) / window_size\n",
    "    return np.convolve(data, weights, mode='valid')\n",
    "\n",
    "the_array = reducer.transform(summary_embeddings)\n",
    "x_array = [point[0] for point in the_array]\n",
    "y_array = [point[1] for point in the_array]\n",
    "\n",
    "plt.scatter(x_array, y_array, c=range(len(x_array)), cmap='RdBu')\n",
    "\n",
    "# Annotate each point with its number\n",
    "for i, (x, y) in enumerate(zip(x_array, y_array)):\n",
    "    plt.text(x, y, str(i + 1), fontsize=8, ha='right', va='bottom')\n",
    "\n",
    "# Add lines and arrows indicating the directions with color gradient\n",
    "colors = plt.cm.RdBu(np.linspace(0, 1, len(x_array) - 1))  # Generate a gradient from red to blue\n",
    "\n",
    "for i in range(len(x_array) - 1):\n",
    "    plt.arrow(x_array[i], y_array[i], x_array[i + 1] - x_array[i], y_array[i + 1] - y_array[i],\n",
    "              color=colors[i], shape='full', lw=2, length_includes_head=True, head_width=0.15)\n",
    "\n",
    "# Plot the distances between consecutive points\n",
    "distances = [calculate_distance((x_array[i], y_array[i]), (x_array[i + 1], y_array[i + 1]))\n",
    "             for i in range(len(x_array) - 1)]\n",
    "\n",
    "# Apply moving average to smooth the distances\n",
    "smoothed_distances = moving_average(distances, 5)\n",
    "\n",
    "plt.figure()\n",
    "plt.gca().invert_yaxis()  # Invert the y-axis\n",
    "plt.plot(range(1, len(smoothed_distances) + 1), smoothed_distances, linestyle='-', color='black')\n",
    "plt.xlabel('Point Pair')\n",
    "plt.ylabel('Inverted Smoothed Distance')\n",
    "plt.title('Inverted Smoothed Distances between Consecutive Points')\n",
    "plt.show()\n"
   ]
  },
  {
   "cell_type": "code",
   "execution_count": null,
   "metadata": {},
   "outputs": [],
   "source": [
    "result_list = model.predict([[summary_list[i], summary_list[i+1]] for i in range(len(summary_list)-1)])"
   ]
  },
  {
   "cell_type": "code",
   "execution_count": null,
   "metadata": {},
   "outputs": [],
   "source": [
    "import matplotlib.pyplot as plt\n",
    "import numpy as np\n",
    "x= np.array(range(1, len(result_list)+1))\n",
    "y= np.array(result_list)\n",
    "\n",
    "def moving_average(data, window_size):\n",
    "    weights = np.ones(window_size) / window_size\n",
    "    return np.convolve(data, weights, mode='valid')\n",
    "window_size = 3\n",
    "\n",
    "plt.plot(np.array(range(1, len(moving_average(y, window_size))+1)), moving_average(y, window_size))"
   ]
  },
  {
   "cell_type": "code",
   "execution_count": null,
   "metadata": {},
   "outputs": [],
   "source": [
    "import chromadb\n",
    "from chromadb.utils.embedding_functions import SentenceTransformerEmbeddingFunction\n",
    "embedding_function = SentenceTransformerEmbeddingFunction()\n",
    "client = chromadb.Client()"
   ]
  },
  {
   "cell_type": "code",
   "execution_count": null,
   "metadata": {},
   "outputs": [],
   "source": [
    "import umap\n",
    "umap_transform = umap.UMAP(random_state=0, transform_seed=0).fit()"
   ]
  },
  {
   "cell_type": "code",
   "execution_count": 2,
   "metadata": {},
   "outputs": [
    {
     "data": {
      "application/vnd.jupyter.widget-view+json": {
       "model_id": "e6b3a98f66c34a769588dd296c6701a9",
       "version_major": 2,
       "version_minor": 0
      },
      "text/plain": [
       "Loading checkpoint shards:   0%|          | 0/8 [00:00<?, ?it/s]"
      ]
     },
     "metadata": {},
     "output_type": "display_data"
    },
    {
     "data": {
      "application/vnd.jupyter.widget-view+json": {
       "model_id": "d88866be3c094f0b89704ee4dd6c96d9",
       "version_major": 2,
       "version_minor": 0
      },
      "text/plain": [
       "Loading checkpoint shards:   0%|          | 0/6 [00:00<?, ?it/s]"
      ]
     },
     "metadata": {},
     "output_type": "display_data"
    }
   ],
   "source": [
    "import vec2text\n",
    "corrector = vec2text.load_corrector(\"gtr-base\")"
   ]
  },
  {
   "cell_type": "code",
   "execution_count": 3,
   "metadata": {},
   "outputs": [
    {
     "data": {
      "text/plain": [
       "['Jack Morris Morris is a PhD student at  Cornell Tech in New York City ',\n",
       " 'It was the best of times, it was the worst of times, it was the age of wisdom, it was the epoch of foolishness']"
      ]
     },
     "execution_count": 3,
     "metadata": {},
     "output_type": "execute_result"
    }
   ],
   "source": [
    "vec2text.invert_strings(\n",
    "    [\n",
    "        \"Jack Morris is a PhD student at Cornell Tech in New York City\",\n",
    "        \"It was the best of times, it was the worst of times, it was the age of wisdom, it was the age of foolishness, it was the epoch of belief, it was the epoch of incredulity\"\n",
    "    ],\n",
    "    corrector=corrector,\n",
    "    num_steps=20,\n",
    ")"
   ]
  },
  {
   "cell_type": "code",
   "execution_count": null,
   "metadata": {},
   "outputs": [],
   "source": [
    "vec2text.invert_embeddings(\n",
    "    \n",
    ")"
   ]
  },
  {
   "cell_type": "code",
   "execution_count": 4,
   "metadata": {},
   "outputs": [
    {
     "data": {
      "image/png": "[encoded data removed]",
      "text/plain": [
       "<Figure size 640x480 with 1 Axes>"
      ]
     },
     "metadata": {},
     "output_type": "display_data"
    }
   ],
   "source": [
    "import networkx as nx\n",
    "import matplotlib.pyplot as plt\n",
    "\n",
    "# Create a directed acyclic graph (DAG)\n",
    "G = nx.DiGraph()\n",
    "\n",
    "# Add nodes\n",
    "nodes = [\"Knowledge\", \"Graph\", \"Matplotlib\", \"DAG\"]\n",
    "G.add_nodes_from(nodes)\n",
    "\n",
    "# Add edges\n",
    "edges = [(\"Knowledge\", \"Graph\"), (\"Knowledge\", \"Matplotlib\"), (\"Matplotlib\", \"DAG\")]\n",
    "G.add_edges_from(edges)\n",
    "\n",
    "# Define the layout for the graph\n",
    "pos = nx.spring_layout(G)\n",
    "\n",
    "# Draw the graph\n",
    "nx.draw(G, pos, with_labels=True, font_weight='bold', node_size=1000, node_color='lightblue', arrowsize=20)\n",
    "\n"
   ]
  }
 ],
 "metadata": {
  "kernelspec": {
   "display_name": "Lucid",
   "language": "python",
   "name": "python3"
  },
  "language_info": {
   "codemirror_mode": {
    "name": "ipython",
    "version": 3
   },
   "file_extension": ".py",
   "mimetype": "text/x-python",
   "name": "python",
   "nbconvert_exporter": "python",
   "pygments_lexer": "ipython3",
   "version": "3.11.5"
  }
 },
 "nbformat": 4,
 "nbformat_minor": 2
}

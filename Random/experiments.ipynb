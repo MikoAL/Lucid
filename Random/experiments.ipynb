{
 "cells": [
  {
   "cell_type": "code",
   "execution_count": 1,
   "metadata": {},
   "outputs": [],
   "source": [
    "import os\n",
    "script_dir = r\"C:\\Users\\User\\Desktop\\Projects\\Lucid\\Random\"\n",
    "os.chdir(script_dir)"
   ]
  },
  {
   "cell_type": "code",
   "execution_count": 4,
   "metadata": {},
   "outputs": [],
   "source": [
    "from RealtimeTTS import TextToAudioStream, SystemEngine\n",
    "\n",
    "engine = SystemEngine() # replace with your TTS engine\n",
    "stream = TextToAudioStream(engine)\n",
    "stream.feed(\"Hello world! How are you today?\")\n",
    "stream.play_async()"
   ]
  }
 ],
 "metadata": {
  "kernelspec": {
   "display_name": "Lucid",
   "language": "python",
   "name": "python3"
  },
  "language_info": {
   "codemirror_mode": {
    "name": "ipython",
    "version": 3
   },
   "file_extension": ".py",
   "mimetype": "text/x-python",
   "name": "python",
   "nbconvert_exporter": "python",
   "pygments_lexer": "ipython3",
   "version": "3.11.5"
  }
 },
 "nbformat": 4,
 "nbformat_minor": 2
}

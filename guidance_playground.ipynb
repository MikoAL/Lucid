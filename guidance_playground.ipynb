{
 "cells": [
  {
   "cell_type": "code",
   "execution_count": null,
   "metadata": {},
   "outputs": [],
   "source": [
    "#%pip install -U accelerate bitsandbytes\n",
    "#%pip install -U guidance\n",
    "#%pip install -U --user transformers\n",
    "#%pip install --upgrade optimum\n",
    "#%pip install --upgrade autoawq"
   ]
  },
  {
   "cell_type": "code",
   "execution_count": 1,
   "metadata": {},
   "outputs": [
    {
     "name": "stdout",
     "output_type": "stream",
     "text": [
      "Looking in indexes: https://pypi.org/simple, https://pypi.ngc.nvidia.com\n",
      "Collecting guidance\n",
      "  Downloading guidance-0.1.10-cp311-cp311-win_amd64.whl.metadata (1.3 kB)\n",
      "Requirement already satisfied: diskcache in c:\\users\\user\\desktop\\projects\\text-generation-webui\\installer_files\\env\\lib\\site-packages (from guidance) (5.6.3)\n",
      "Collecting gptcache (from guidance)\n",
      "  Downloading gptcache-0.1.43-py3-none-any.whl.metadata (24 kB)\n",
      "Requirement already satisfied: openai>=1.0 in c:\\users\\user\\desktop\\projects\\text-generation-webui\\installer_files\\env\\lib\\site-packages (from guidance) (1.6.1)\n",
      "Requirement already satisfied: platformdirs in c:\\users\\user\\desktop\\projects\\text-generation-webui\\installer_files\\env\\lib\\site-packages (from guidance) (4.1.0)\n",
      "Requirement already satisfied: tiktoken>=0.3 in c:\\users\\user\\desktop\\projects\\text-generation-webui\\installer_files\\env\\lib\\site-packages (from guidance) (0.5.2)\n",
      "Collecting msal (from guidance)\n",
      "  Downloading msal-1.26.0-py2.py3-none-any.whl.metadata (11 kB)\n",
      "Requirement already satisfied: requests in c:\\users\\user\\desktop\\projects\\text-generation-webui\\installer_files\\env\\lib\\site-packages (from guidance) (2.31.0)\n",
      "Requirement already satisfied: numpy in c:\\users\\user\\desktop\\projects\\text-generation-webui\\installer_files\\env\\lib\\site-packages (from guidance) (1.24.4)\n",
      "Requirement already satisfied: aiohttp in c:\\users\\user\\desktop\\projects\\text-generation-webui\\installer_files\\env\\lib\\site-packages (from guidance) (3.9.1)\n",
      "Requirement already satisfied: ordered-set in c:\\users\\user\\desktop\\projects\\text-generation-webui\\installer_files\\env\\lib\\site-packages (from guidance) (4.1.0)\n",
      "Collecting pyformlang (from guidance)\n",
      "  Downloading pyformlang-1.0.4-py3-none-any.whl.metadata (2.4 kB)\n",
      "Requirement already satisfied: anyio<5,>=3.5.0 in c:\\users\\user\\desktop\\projects\\text-generation-webui\\installer_files\\env\\lib\\site-packages (from openai>=1.0->guidance) (4.2.0)\n",
      "Requirement already satisfied: distro<2,>=1.7.0 in c:\\users\\user\\desktop\\projects\\text-generation-webui\\installer_files\\env\\lib\\site-packages (from openai>=1.0->guidance) (1.9.0)\n",
      "Requirement already satisfied: httpx<1,>=0.23.0 in c:\\users\\user\\desktop\\projects\\text-generation-webui\\installer_files\\env\\lib\\site-packages (from openai>=1.0->guidance) (0.26.0)\n",
      "Requirement already satisfied: pydantic<3,>=1.9.0 in c:\\users\\user\\desktop\\projects\\text-generation-webui\\installer_files\\env\\lib\\site-packages (from openai>=1.0->guidance) (2.5.3)\n",
      "Requirement already satisfied: sniffio in c:\\users\\user\\desktop\\projects\\text-generation-webui\\installer_files\\env\\lib\\site-packages (from openai>=1.0->guidance) (1.3.0)\n",
      "Requirement already satisfied: tqdm>4 in c:\\users\\user\\desktop\\projects\\text-generation-webui\\installer_files\\env\\lib\\site-packages (from openai>=1.0->guidance) (4.66.1)\n",
      "Requirement already satisfied: typing-extensions<5,>=4.7 in c:\\users\\user\\desktop\\projects\\text-generation-webui\\installer_files\\env\\lib\\site-packages (from openai>=1.0->guidance) (4.9.0)\n",
      "Requirement already satisfied: regex>=2022.1.18 in c:\\users\\user\\desktop\\projects\\text-generation-webui\\installer_files\\env\\lib\\site-packages (from tiktoken>=0.3->guidance) (2023.12.25)\n",
      "Requirement already satisfied: charset-normalizer<4,>=2 in c:\\users\\user\\desktop\\projects\\text-generation-webui\\installer_files\\env\\lib\\site-packages (from requests->guidance) (2.1.1)\n",
      "Requirement already satisfied: idna<4,>=2.5 in c:\\users\\user\\desktop\\projects\\text-generation-webui\\installer_files\\env\\lib\\site-packages (from requests->guidance) (3.4)\n",
      "Requirement already satisfied: urllib3<3,>=1.21.1 in c:\\users\\user\\desktop\\projects\\text-generation-webui\\installer_files\\env\\lib\\site-packages (from requests->guidance) (1.26.13)\n",
      "Requirement already satisfied: certifi>=2017.4.17 in c:\\users\\user\\desktop\\projects\\text-generation-webui\\installer_files\\env\\lib\\site-packages (from requests->guidance) (2022.12.7)\n",
      "Requirement already satisfied: attrs>=17.3.0 in c:\\users\\user\\desktop\\projects\\text-generation-webui\\installer_files\\env\\lib\\site-packages (from aiohttp->guidance) (23.1.0)\n",
      "Requirement already satisfied: multidict<7.0,>=4.5 in c:\\users\\user\\desktop\\projects\\text-generation-webui\\installer_files\\env\\lib\\site-packages (from aiohttp->guidance) (6.0.4)\n",
      "Requirement already satisfied: yarl<2.0,>=1.0 in c:\\users\\user\\desktop\\projects\\text-generation-webui\\installer_files\\env\\lib\\site-packages (from aiohttp->guidance) (1.9.4)\n",
      "Requirement already satisfied: frozenlist>=1.1.1 in c:\\users\\user\\desktop\\projects\\text-generation-webui\\installer_files\\env\\lib\\site-packages (from aiohttp->guidance) (1.4.1)\n",
      "Requirement already satisfied: aiosignal>=1.1.2 in c:\\users\\user\\desktop\\projects\\text-generation-webui\\installer_files\\env\\lib\\site-packages (from aiohttp->guidance) (1.3.1)\n",
      "Requirement already satisfied: cachetools in c:\\users\\user\\desktop\\projects\\text-generation-webui\\installer_files\\env\\lib\\site-packages (from gptcache->guidance) (5.3.2)\n",
      "Collecting PyJWT<3,>=1.0.0 (from PyJWT[crypto]<3,>=1.0.0->msal->guidance)\n",
      "  Downloading PyJWT-2.8.0-py3-none-any.whl.metadata (4.2 kB)\n",
      "Collecting cryptography<44,>=0.6 (from msal->guidance)\n",
      "  Downloading cryptography-41.0.7-cp37-abi3-win_amd64.whl.metadata (5.3 kB)\n",
      "Requirement already satisfied: networkx in c:\\users\\user\\desktop\\projects\\text-generation-webui\\installer_files\\env\\lib\\site-packages (from pyformlang->guidance) (3.0)\n",
      "Collecting pydot (from pyformlang->guidance)\n",
      "  Downloading pydot-2.0.0-py3-none-any.whl.metadata (9.6 kB)\n",
      "Requirement already satisfied: cffi>=1.12 in c:\\users\\user\\desktop\\projects\\text-generation-webui\\installer_files\\env\\lib\\site-packages (from cryptography<44,>=0.6->msal->guidance) (1.16.0)\n",
      "Requirement already satisfied: httpcore==1.* in c:\\users\\user\\desktop\\projects\\text-generation-webui\\installer_files\\env\\lib\\site-packages (from httpx<1,>=0.23.0->openai>=1.0->guidance) (1.0.2)\n",
      "Requirement already satisfied: h11<0.15,>=0.13 in c:\\users\\user\\desktop\\projects\\text-generation-webui\\installer_files\\env\\lib\\site-packages (from httpcore==1.*->httpx<1,>=0.23.0->openai>=1.0->guidance) (0.14.0)\n",
      "Requirement already satisfied: annotated-types>=0.4.0 in c:\\users\\user\\desktop\\projects\\text-generation-webui\\installer_files\\env\\lib\\site-packages (from pydantic<3,>=1.9.0->openai>=1.0->guidance) (0.6.0)\n",
      "Requirement already satisfied: pydantic-core==2.14.6 in c:\\users\\user\\desktop\\projects\\text-generation-webui\\installer_files\\env\\lib\\site-packages (from pydantic<3,>=1.9.0->openai>=1.0->guidance) (2.14.6)\n",
      "Requirement already satisfied: colorama in c:\\users\\user\\desktop\\projects\\text-generation-webui\\installer_files\\env\\lib\\site-packages (from tqdm>4->openai>=1.0->guidance) (0.4.6)\n",
      "Requirement already satisfied: pyparsing>=3 in c:\\users\\user\\desktop\\projects\\text-generation-webui\\installer_files\\env\\lib\\site-packages (from pydot->pyformlang->guidance) (3.1.1)\n",
      "Requirement already satisfied: pycparser in c:\\users\\user\\desktop\\projects\\text-generation-webui\\installer_files\\env\\lib\\site-packages (from cffi>=1.12->cryptography<44,>=0.6->msal->guidance) (2.21)\n",
      "Downloading guidance-0.1.10-cp311-cp311-win_amd64.whl (179 kB)\n",
      "   ---------------------------------------- 0.0/179.2 kB ? eta -:--:--\n",
      "   ------ --------------------------------- 30.7/179.2 kB 1.4 MB/s eta 0:00:01\n",
      "   ------------- ------------------------- 61.4/179.2 kB 825.8 kB/s eta 0:00:01\n",
      "   -------------------- ------------------- 92.2/179.2 kB 1.1 MB/s eta 0:00:01\n",
      "   -------------------------------- ------- 143.4/179.2 kB 1.1 MB/s eta 0:00:01\n",
      "   ---------------------------------------- 179.2/179.2 kB 1.2 MB/s eta 0:00:00\n",
      "Downloading gptcache-0.1.43-py3-none-any.whl (131 kB)\n",
      "   ---------------------------------------- 0.0/131.5 kB ? eta -:--:--\n",
      "   --------- ------------------------------ 30.7/131.5 kB 1.3 MB/s eta 0:00:01\n",
      "   --------------------- ------------------ 71.7/131.5 kB 1.3 MB/s eta 0:00:01\n",
      "   ---------------------------------------- 131.5/131.5 kB 1.3 MB/s eta 0:00:00\n",
      "Downloading msal-1.26.0-py2.py3-none-any.whl (99 kB)\n",
      "   ---------------------------------------- 0.0/99.0 kB ? eta -:--:--\n",
      "   ---------------- ----------------------- 41.0/99.0 kB 960.0 kB/s eta 0:00:01\n",
      "   ---------------------------- ----------- 71.7/99.0 kB 1.3 MB/s eta 0:00:01\n",
      "   ---------------------------------------- 99.0/99.0 kB 1.1 MB/s eta 0:00:00\n",
      "Downloading pyformlang-1.0.4-py3-none-any.whl (124 kB)\n",
      "   ---------------------------------------- 0.0/124.7 kB ? eta -:--:--\n",
      "   --------- ------------------------------ 30.7/124.7 kB ? eta -:--:--\n",
      "   -------------------------- ------------- 81.9/124.7 kB 1.6 MB/s eta 0:00:01\n",
      "   ---------------------------------------- 124.7/124.7 kB 1.5 MB/s eta 0:00:00\n",
      "Downloading cryptography-41.0.7-cp37-abi3-win_amd64.whl (2.7 MB)\n",
      "   ---------------------------------------- 0.0/2.7 MB ? eta -:--:--\n",
      "   ---------------------------------------- 0.0/2.7 MB 1.4 MB/s eta 0:00:02\n",
      "   - -------------------------------------- 0.1/2.7 MB 1.3 MB/s eta 0:00:02\n",
      "   - -------------------------------------- 0.1/2.7 MB 1.2 MB/s eta 0:00:03\n",
      "   -- ------------------------------------- 0.2/2.7 MB 1.3 MB/s eta 0:00:02\n",
      "   --- ------------------------------------ 0.2/2.7 MB 1.2 MB/s eta 0:00:02\n",
      "   ---- ----------------------------------- 0.3/2.7 MB 1.6 MB/s eta 0:00:02\n",
      "   ----- ---------------------------------- 0.4/2.7 MB 1.5 MB/s eta 0:00:02\n",
      "   ------ --------------------------------- 0.4/2.7 MB 1.6 MB/s eta 0:00:02\n",
      "   ------- -------------------------------- 0.5/2.7 MB 1.6 MB/s eta 0:00:02\n",
      "   -------- ------------------------------- 0.6/2.7 MB 1.7 MB/s eta 0:00:02\n",
      "   --------- ------------------------------ 0.6/2.7 MB 1.6 MB/s eta 0:00:02\n",
      "   ---------- ----------------------------- 0.7/2.7 MB 1.7 MB/s eta 0:00:02\n",
      "   ----------- ---------------------------- 0.7/2.7 MB 1.7 MB/s eta 0:00:02\n",
      "   ------------ --------------------------- 0.8/2.7 MB 1.7 MB/s eta 0:00:02\n",
      "   ------------- -------------------------- 0.9/2.7 MB 1.7 MB/s eta 0:00:02\n",
      "   -------------- ------------------------- 1.0/2.7 MB 1.7 MB/s eta 0:00:01\n",
      "   --------------- ------------------------ 1.0/2.7 MB 1.8 MB/s eta 0:00:01\n",
      "   ---------------- ----------------------- 1.1/2.7 MB 1.8 MB/s eta 0:00:01\n",
      "   ---------------- ----------------------- 1.1/2.7 MB 1.7 MB/s eta 0:00:01\n",
      "   ----------------- ---------------------- 1.2/2.7 MB 1.7 MB/s eta 0:00:01\n",
      "   ----------------- ---------------------- 1.2/2.7 MB 1.6 MB/s eta 0:00:01\n",
      "   ------------------ --------------------- 1.2/2.7 MB 1.6 MB/s eta 0:00:01\n",
      "   ------------------- -------------------- 1.3/2.7 MB 1.6 MB/s eta 0:00:01\n",
      "   --------------------- ------------------ 1.4/2.7 MB 1.7 MB/s eta 0:00:01\n",
      "   --------------------- ------------------ 1.4/2.7 MB 1.7 MB/s eta 0:00:01\n",
      "   --------------------- ------------------ 1.4/2.7 MB 1.7 MB/s eta 0:00:01\n",
      "   ---------------------- ----------------- 1.5/2.7 MB 1.6 MB/s eta 0:00:01\n",
      "   ---------------------- ----------------- 1.5/2.7 MB 1.6 MB/s eta 0:00:01\n",
      "   ----------------------- ---------------- 1.6/2.7 MB 1.6 MB/s eta 0:00:01\n",
      "   ------------------------ --------------- 1.6/2.7 MB 1.5 MB/s eta 0:00:01\n",
      "   ------------------------ --------------- 1.6/2.7 MB 1.5 MB/s eta 0:00:01\n",
      "   ------------------------- -------------- 1.7/2.7 MB 1.6 MB/s eta 0:00:01\n",
      "   -------------------------- ------------- 1.8/2.7 MB 1.5 MB/s eta 0:00:01\n",
      "   --------------------------- ------------ 1.8/2.7 MB 1.5 MB/s eta 0:00:01\n",
      "   ---------------------------- ----------- 1.9/2.7 MB 1.5 MB/s eta 0:00:01\n",
      "   ---------------------------- ----------- 1.9/2.7 MB 1.5 MB/s eta 0:00:01\n",
      "   ----------------------------- ---------- 2.0/2.7 MB 1.5 MB/s eta 0:00:01\n",
      "   ------------------------------ --------- 2.0/2.7 MB 1.5 MB/s eta 0:00:01\n",
      "   ------------------------------- -------- 2.1/2.7 MB 1.5 MB/s eta 0:00:01\n",
      "   -------------------------------- ------- 2.2/2.7 MB 1.5 MB/s eta 0:00:01\n",
      "   --------------------------------- ------ 2.2/2.7 MB 1.5 MB/s eta 0:00:01\n",
      "   ---------------------------------- ----- 2.3/2.7 MB 1.5 MB/s eta 0:00:01\n",
      "   ---------------------------------- ----- 2.3/2.7 MB 1.5 MB/s eta 0:00:01\n",
      "   ----------------------------------- ---- 2.4/2.7 MB 1.5 MB/s eta 0:00:01\n",
      "   ------------------------------------ --- 2.5/2.7 MB 1.6 MB/s eta 0:00:01\n",
      "   ------------------------------------- -- 2.5/2.7 MB 1.6 MB/s eta 0:00:01\n",
      "   -------------------------------------- - 2.6/2.7 MB 1.6 MB/s eta 0:00:01\n",
      "   ---------------------------------------- 2.7/2.7 MB 1.6 MB/s eta 0:00:00\n",
      "Downloading PyJWT-2.8.0-py3-none-any.whl (22 kB)\n",
      "Downloading pydot-2.0.0-py3-none-any.whl (22 kB)\n",
      "Installing collected packages: PyJWT, pydot, pyformlang, gptcache, cryptography, msal, guidance\n",
      "Successfully installed PyJWT-2.8.0 cryptography-41.0.7 gptcache-0.1.43 guidance-0.1.10 msal-1.26.0 pydot-2.0.0 pyformlang-1.0.4\n",
      "Note: you may need to restart the kernel to use updated packages.\n"
     ]
    }
   ],
   "source": [
    "#%pip install guidance"
   ]
  },
  {
   "cell_type": "code",
   "execution_count": null,
   "metadata": {},
   "outputs": [],
   "source": [
    "# Load model directly\n",
    "from transformers import AutoTokenizer, AutoModelForCausalLM, GPTQConfig\n",
    "\n",
    "\n",
    "gptq_config = GPTQConfig(bits=4, exllama_config={\"version\":2})\n",
    "tokenizer = AutoTokenizer.from_pretrained(\"TheBloke/dolphin-2.6-mistral-7B-dpo-AWQ\", device_map=\"auto\", quantization_config=gptq_config)\n",
    "model = AutoModelForCausalLM.from_pretrained(\"TheBloke/dolphin-2.6-mistral-7B-dpo-AWQ\")"
   ]
  },
  {
   "cell_type": "code",
   "execution_count": 2,
   "metadata": {},
   "outputs": [
    {
     "ename": "KeyboardInterrupt",
     "evalue": "",
     "output_type": "error",
     "traceback": [
      "\u001b[1;31m---------------------------------------------------------------------------\u001b[0m",
      "\u001b[1;31mKeyboardInterrupt\u001b[0m                         Traceback (most recent call last)",
      "Cell \u001b[1;32mIn[2], line 1\u001b[0m\n\u001b[1;32m----> 1\u001b[0m \u001b[38;5;28;01mfrom\u001b[39;00m \u001b[38;5;21;01mguidance\u001b[39;00m \u001b[38;5;28;01mimport\u001b[39;00m models, gen\n\u001b[0;32m      2\u001b[0m \u001b[38;5;28;01mfrom\u001b[39;00m \u001b[38;5;21;01mtransformers\u001b[39;00m \u001b[38;5;28;01mimport\u001b[39;00m AutoTokenizer, AutoModelForCausalLM, GPTQConfig\n\u001b[0;32m      5\u001b[0m gptq_config \u001b[38;5;241m=\u001b[39m GPTQConfig(bits\u001b[38;5;241m=\u001b[39m\u001b[38;5;241m4\u001b[39m, exllama_config\u001b[38;5;241m=\u001b[39m{\u001b[38;5;124m\"\u001b[39m\u001b[38;5;124mversion\u001b[39m\u001b[38;5;124m\"\u001b[39m:\u001b[38;5;241m2\u001b[39m})\n",
      "File \u001b[1;32mc:\\Users\\User\\Desktop\\Projects\\text-generation-webui\\installer_files\\env\\Lib\\site-packages\\guidance\\__init__.py:9\u001b[0m\n\u001b[0;32m      6\u001b[0m \u001b[38;5;28;01mimport\u001b[39;00m \u001b[38;5;21;01mtypes\u001b[39;00m\n\u001b[0;32m      7\u001b[0m \u001b[38;5;28;01mimport\u001b[39;00m \u001b[38;5;21;01mrequests\u001b[39;00m\n\u001b[1;32m----> 9\u001b[0m \u001b[38;5;28;01mfrom\u001b[39;00m \u001b[38;5;21;01m.\u001b[39;00m \u001b[38;5;28;01mimport\u001b[39;00m models\n\u001b[0;32m     10\u001b[0m \u001b[38;5;28;01mfrom\u001b[39;00m \u001b[38;5;21;01m.\u001b[39;00m\u001b[38;5;21;01m_grammar\u001b[39;00m \u001b[38;5;28;01mimport\u001b[39;00m (Placeholder, StatefulFunction, StatelessFunction,\n\u001b[0;32m     11\u001b[0m                        Terminal, replace_grammar_node, string)\n\u001b[0;32m     12\u001b[0m \u001b[38;5;28;01mfrom\u001b[39;00m \u001b[38;5;21;01m.\u001b[39;00m\u001b[38;5;21;01m_utils\u001b[39;00m \u001b[38;5;28;01mimport\u001b[39;00m load, strip_multiline_string_indents\n",
      "File \u001b[1;32mc:\\Users\\User\\Desktop\\Projects\\text-generation-webui\\installer_files\\env\\Lib\\site-packages\\guidance\\models\\__init__.py:1\u001b[0m\n\u001b[1;32m----> 1\u001b[0m \u001b[38;5;28;01mfrom\u001b[39;00m \u001b[38;5;21;01m.\u001b[39;00m\u001b[38;5;21;01m_model\u001b[39;00m \u001b[38;5;28;01mimport\u001b[39;00m Model, Instruct, Chat\n\u001b[0;32m      3\u001b[0m \u001b[38;5;66;03m# local models\u001b[39;00m\n\u001b[0;32m      4\u001b[0m \u001b[38;5;28;01mfrom\u001b[39;00m \u001b[38;5;21;01m.\u001b[39;00m\u001b[38;5;21;01mtransformers\u001b[39;00m\u001b[38;5;21;01m.\u001b[39;00m\u001b[38;5;21;01m_transformers\u001b[39;00m \u001b[38;5;28;01mimport\u001b[39;00m Transformers, TransformersChat\n",
      "File \u001b[1;32mc:\\Users\\User\\Desktop\\Projects\\text-generation-webui\\installer_files\\env\\Lib\\site-packages\\guidance\\models\\_model.py:8\u001b[0m\n\u001b[0;32m      6\u001b[0m     HTML \u001b[38;5;241m=\u001b[39m \u001b[38;5;28;01mlambda\u001b[39;00m arg: \u001b[38;5;28;01mNone\u001b[39;00m\n\u001b[0;32m      7\u001b[0m \u001b[38;5;28;01mtry\u001b[39;00m:\n\u001b[1;32m----> 8\u001b[0m     \u001b[38;5;28;01mimport\u001b[39;00m \u001b[38;5;21;01mtorch\u001b[39;00m\n\u001b[0;32m      9\u001b[0m \u001b[38;5;28;01mexcept\u001b[39;00m \u001b[38;5;167;01mImportError\u001b[39;00m:\n\u001b[0;32m     10\u001b[0m     torch \u001b[38;5;241m=\u001b[39m \u001b[38;5;28;01mNone\u001b[39;00m\n",
      "File \u001b[1;32mc:\\Users\\User\\Desktop\\Projects\\text-generation-webui\\installer_files\\env\\Lib\\site-packages\\torch\\__init__.py:1750\u001b[0m\n\u001b[0;32m   1748\u001b[0m \u001b[38;5;28;01mfrom\u001b[39;00m \u001b[38;5;21;01m.\u001b[39;00m \u001b[38;5;28;01mimport\u001b[39;00m library\n\u001b[0;32m   1749\u001b[0m \u001b[38;5;28;01mif\u001b[39;00m \u001b[38;5;129;01mnot\u001b[39;00m TYPE_CHECKING:\n\u001b[1;32m-> 1750\u001b[0m     \u001b[38;5;28;01mfrom\u001b[39;00m \u001b[38;5;21;01m.\u001b[39;00m \u001b[38;5;28;01mimport\u001b[39;00m _meta_registrations\n\u001b[0;32m   1752\u001b[0m \u001b[38;5;66;03m# Enable CUDA Sanitizer\u001b[39;00m\n\u001b[0;32m   1753\u001b[0m \u001b[38;5;28;01mif\u001b[39;00m \u001b[38;5;124m'\u001b[39m\u001b[38;5;124mTORCH_CUDA_SANITIZER\u001b[39m\u001b[38;5;124m'\u001b[39m \u001b[38;5;129;01min\u001b[39;00m os\u001b[38;5;241m.\u001b[39menviron:\n",
      "File \u001b[1;32mc:\\Users\\User\\Desktop\\Projects\\text-generation-webui\\installer_files\\env\\Lib\\site-packages\\torch\\_meta_registrations.py:8\u001b[0m\n\u001b[0;32m      6\u001b[0m \u001b[38;5;28;01mimport\u001b[39;00m \u001b[38;5;21;01mtorch\u001b[39;00m\u001b[38;5;21;01m.\u001b[39;00m\u001b[38;5;21;01m_prims_common\u001b[39;00m \u001b[38;5;28;01mas\u001b[39;00m \u001b[38;5;21;01mutils\u001b[39;00m\n\u001b[0;32m      7\u001b[0m \u001b[38;5;28;01mfrom\u001b[39;00m \u001b[38;5;21;01mtorch\u001b[39;00m \u001b[38;5;28;01mimport\u001b[39;00m SymBool, SymFloat, Tensor\n\u001b[1;32m----> 8\u001b[0m \u001b[38;5;28;01mfrom\u001b[39;00m \u001b[38;5;21;01mtorch\u001b[39;00m\u001b[38;5;21;01m.\u001b[39;00m\u001b[38;5;21;01m_decomp\u001b[39;00m \u001b[38;5;28;01mimport\u001b[39;00m (\n\u001b[0;32m      9\u001b[0m     _add_op_to_registry,\n\u001b[0;32m     10\u001b[0m     _convert_out_params,\n\u001b[0;32m     11\u001b[0m     global_decomposition_table,\n\u001b[0;32m     12\u001b[0m     meta_table,\n\u001b[0;32m     13\u001b[0m )\n\u001b[0;32m     14\u001b[0m \u001b[38;5;28;01mfrom\u001b[39;00m \u001b[38;5;21;01mtorch\u001b[39;00m\u001b[38;5;21;01m.\u001b[39;00m\u001b[38;5;21;01m_ops\u001b[39;00m \u001b[38;5;28;01mimport\u001b[39;00m OpOverload\n\u001b[0;32m     15\u001b[0m \u001b[38;5;28;01mfrom\u001b[39;00m \u001b[38;5;21;01mtorch\u001b[39;00m\u001b[38;5;21;01m.\u001b[39;00m\u001b[38;5;21;01m_prims\u001b[39;00m \u001b[38;5;28;01mimport\u001b[39;00m _elementwise_meta, ELEMENTWISE_PRIM_TYPE_PROMOTION_KIND\n",
      "File \u001b[1;32mc:\\Users\\User\\Desktop\\Projects\\text-generation-webui\\installer_files\\env\\Lib\\site-packages\\torch\\_decomp\\__init__.py:190\u001b[0m\n\u001b[0;32m    186\u001b[0m             decompositions\u001b[38;5;241m.\u001b[39mpop(op, \u001b[38;5;28;01mNone\u001b[39;00m)\n\u001b[0;32m    189\u001b[0m \u001b[38;5;66;03m# populate the table\u001b[39;00m\n\u001b[1;32m--> 190\u001b[0m \u001b[38;5;28;01mimport\u001b[39;00m \u001b[38;5;21;01mtorch\u001b[39;00m\u001b[38;5;21;01m.\u001b[39;00m\u001b[38;5;21;01m_decomp\u001b[39;00m\u001b[38;5;21;01m.\u001b[39;00m\u001b[38;5;21;01mdecompositions\u001b[39;00m\n\u001b[0;32m    191\u001b[0m \u001b[38;5;28;01mimport\u001b[39;00m \u001b[38;5;21;01mtorch\u001b[39;00m\u001b[38;5;21;01m.\u001b[39;00m\u001b[38;5;21;01m_refs\u001b[39;00m\n\u001b[0;32m    194\u001b[0m \u001b[38;5;66;03m# See NOTE [Core ATen Ops]\u001b[39;00m\n\u001b[0;32m    195\u001b[0m \u001b[38;5;66;03m#\u001b[39;00m\n\u001b[0;32m    196\u001b[0m \u001b[38;5;66;03m# list was copied from torch/_inductor/decomposition.py\u001b[39;00m\n\u001b[0;32m    197\u001b[0m \u001b[38;5;66;03m# excluding decompositions that results in prim ops\u001b[39;00m\n\u001b[0;32m    198\u001b[0m \u001b[38;5;66;03m# Resulting opset of decomposition is core aten ops\u001b[39;00m\n",
      "File \u001b[1;32mc:\\Users\\User\\Desktop\\Projects\\text-generation-webui\\installer_files\\env\\Lib\\site-packages\\torch\\_decomp\\decompositions.py:10\u001b[0m\n\u001b[0;32m      7\u001b[0m \u001b[38;5;28;01mfrom\u001b[39;00m \u001b[38;5;21;01mtyping\u001b[39;00m \u001b[38;5;28;01mimport\u001b[39;00m Callable, cast, Iterable, List, Optional, Tuple, Union\n\u001b[0;32m      9\u001b[0m \u001b[38;5;28;01mimport\u001b[39;00m \u001b[38;5;21;01mtorch\u001b[39;00m\n\u001b[1;32m---> 10\u001b[0m \u001b[38;5;28;01mimport\u001b[39;00m \u001b[38;5;21;01mtorch\u001b[39;00m\u001b[38;5;21;01m.\u001b[39;00m\u001b[38;5;21;01m_prims\u001b[39;00m \u001b[38;5;28;01mas\u001b[39;00m \u001b[38;5;21;01mprims\u001b[39;00m\n\u001b[0;32m     11\u001b[0m \u001b[38;5;28;01mimport\u001b[39;00m \u001b[38;5;21;01mtorch\u001b[39;00m\u001b[38;5;21;01m.\u001b[39;00m\u001b[38;5;21;01m_prims_common\u001b[39;00m \u001b[38;5;28;01mas\u001b[39;00m \u001b[38;5;21;01mutils\u001b[39;00m\n\u001b[0;32m     12\u001b[0m \u001b[38;5;28;01mimport\u001b[39;00m \u001b[38;5;21;01mtorch\u001b[39;00m\u001b[38;5;21;01m.\u001b[39;00m\u001b[38;5;21;01mnn\u001b[39;00m\u001b[38;5;21;01m.\u001b[39;00m\u001b[38;5;21;01mfunctional\u001b[39;00m \u001b[38;5;28;01mas\u001b[39;00m \u001b[38;5;21;01mF\u001b[39;00m\n",
      "File \u001b[1;32mc:\\Users\\User\\Desktop\\Projects\\text-generation-webui\\installer_files\\env\\Lib\\site-packages\\torch\\_prims\\__init__.py:2968\u001b[0m\n\u001b[0;32m   2959\u001b[0m fft_c2r \u001b[38;5;241m=\u001b[39m _make_prim(\n\u001b[0;32m   2960\u001b[0m     schema\u001b[38;5;241m=\u001b[39m\u001b[38;5;124m\"\u001b[39m\u001b[38;5;124mfft_c2r(Tensor self, *, int[] dim, SymInt last_dim_size) -> Tensor\u001b[39m\u001b[38;5;124m\"\u001b[39m,\n\u001b[0;32m   2961\u001b[0m     meta\u001b[38;5;241m=\u001b[39m_fft_c2r_meta,\n\u001b[1;32m   (...)\u001b[0m\n\u001b[0;32m   2964\u001b[0m     doc\u001b[38;5;241m=\u001b[39m_fft_c2r_doc,\n\u001b[0;32m   2965\u001b[0m )\n\u001b[0;32m   2967\u001b[0m register_rng_prims()\n\u001b[1;32m-> 2968\u001b[0m \u001b[43mregister_debug_prims\u001b[49m\u001b[43m(\u001b[49m\u001b[43m)\u001b[49m\n",
      "File \u001b[1;32mc:\\Users\\User\\Desktop\\Projects\\text-generation-webui\\installer_files\\env\\Lib\\site-packages\\torch\\_prims\\debug_prims.py:40\u001b[0m, in \u001b[0;36mregister_debug_prims\u001b[1;34m()\u001b[0m\n\u001b[0;32m     29\u001b[0m \u001b[38;5;129m@custom_op\u001b[39m(\u001b[38;5;124m\"\u001b[39m\u001b[38;5;124mdebugprims::load_tensor\u001b[39m\u001b[38;5;124m\"\u001b[39m)\n\u001b[0;32m     30\u001b[0m \u001b[38;5;28;01mdef\u001b[39;00m \u001b[38;5;21mload_tensor\u001b[39m(  \u001b[38;5;66;03m# type: ignore[empty-body]\u001b[39;00m\n\u001b[0;32m     31\u001b[0m     name: \u001b[38;5;28mstr\u001b[39m,\n\u001b[1;32m   (...)\u001b[0m\n\u001b[0;32m     36\u001b[0m     device: torch\u001b[38;5;241m.\u001b[39mdevice,\n\u001b[0;32m     37\u001b[0m ) \u001b[38;5;241m-\u001b[39m\u001b[38;5;241m>\u001b[39m torch\u001b[38;5;241m.\u001b[39mTensor:\n\u001b[0;32m     38\u001b[0m     \u001b[38;5;241m.\u001b[39m\u001b[38;5;241m.\u001b[39m\u001b[38;5;241m.\u001b[39m\n\u001b[1;32m---> 40\u001b[0m \u001b[43m\u001b[49m\u001b[38;5;129;43m@load_tensor\u001b[39;49m\u001b[38;5;241;43m.\u001b[39;49m\u001b[43mimpl_factory\u001b[49m\u001b[43m(\u001b[49m\u001b[43m)\u001b[49m\n\u001b[0;32m     41\u001b[0m \u001b[43m\u001b[49m\u001b[38;5;28;43;01mdef\u001b[39;49;00m\u001b[43m \u001b[49m\u001b[38;5;21;43mload_tensor_factory\u001b[39;49m\u001b[43m(\u001b[49m\u001b[43mname\u001b[49m\u001b[43m,\u001b[49m\u001b[43m \u001b[49m\u001b[43msize\u001b[49m\u001b[43m,\u001b[49m\u001b[43m \u001b[49m\u001b[43mstride\u001b[49m\u001b[43m,\u001b[49m\u001b[43m \u001b[49m\u001b[43mdtype\u001b[49m\u001b[43m,\u001b[49m\u001b[43m \u001b[49m\u001b[43mdevice\u001b[49m\u001b[43m)\u001b[49m\u001b[43m:\u001b[49m\n\u001b[0;32m     42\u001b[0m \u001b[43m    \u001b[49m\u001b[38;5;28;43;01mif\u001b[39;49;00m\u001b[43m \u001b[49m\u001b[43mLOAD_TENSOR_READER\u001b[49m\u001b[43m \u001b[49m\u001b[38;5;129;43;01mis\u001b[39;49;00m\u001b[43m \u001b[49m\u001b[38;5;28;43;01mNone\u001b[39;49;00m\u001b[43m:\u001b[49m\n\u001b[0;32m     43\u001b[0m \u001b[43m        \u001b[49m\u001b[38;5;28;43;01mfrom\u001b[39;49;00m\u001b[43m \u001b[49m\u001b[38;5;21;43;01mtorch\u001b[39;49;00m\u001b[38;5;21;43;01m.\u001b[39;49;00m\u001b[38;5;21;43;01m_dynamo\u001b[39;49;00m\u001b[38;5;21;43;01m.\u001b[39;49;00m\u001b[38;5;21;43;01mtesting\u001b[39;49;00m\u001b[43m \u001b[49m\u001b[38;5;28;43;01mimport\u001b[39;49;00m\u001b[43m \u001b[49m\u001b[43mrand_strided\u001b[49m\n",
      "File \u001b[1;32mc:\\Users\\User\\Desktop\\Projects\\text-generation-webui\\installer_files\\env\\Lib\\site-packages\\torch\\_custom_op\\impl.py:330\u001b[0m, in \u001b[0;36mCustomOp.impl_factory.<locals>.inner\u001b[1;34m(f)\u001b[0m\n\u001b[0;32m    329\u001b[0m \u001b[38;5;28;01mdef\u001b[39;00m \u001b[38;5;21minner\u001b[39m(f):\n\u001b[1;32m--> 330\u001b[0m     \u001b[38;5;28;43mself\u001b[39;49m\u001b[38;5;241;43m.\u001b[39;49m\u001b[43m_register_impl\u001b[49m\u001b[43m(\u001b[49m\u001b[38;5;124;43m\"\u001b[39;49m\u001b[38;5;124;43mfactory\u001b[39;49m\u001b[38;5;124;43m\"\u001b[39;49m\u001b[43m,\u001b[49m\u001b[43m \u001b[49m\u001b[43mf\u001b[49m\u001b[43m)\u001b[49m\n\u001b[0;32m    331\u001b[0m     library\u001b[38;5;241m.\u001b[39mimpl(\u001b[38;5;28mself\u001b[39m\u001b[38;5;241m.\u001b[39m_lib, \u001b[38;5;28mself\u001b[39m\u001b[38;5;241m.\u001b[39m_opname, \u001b[38;5;124m\"\u001b[39m\u001b[38;5;124mBackendSelect\u001b[39m\u001b[38;5;124m\"\u001b[39m)(f)\n\u001b[0;32m    332\u001b[0m     \u001b[38;5;28;01mreturn\u001b[39;00m f\n",
      "File \u001b[1;32mc:\\Users\\User\\Desktop\\Projects\\text-generation-webui\\installer_files\\env\\Lib\\site-packages\\torch\\_custom_op\\impl.py:221\u001b[0m, in \u001b[0;36mCustomOp._register_impl\u001b[1;34m(self, kind, func, stacklevel)\u001b[0m\n\u001b[0;32m    215\u001b[0m     location \u001b[38;5;241m=\u001b[39m func_and_location\u001b[38;5;241m.\u001b[39mlocation\n\u001b[0;32m    216\u001b[0m     \u001b[38;5;28;01mraise\u001b[39;00m \u001b[38;5;167;01mRuntimeError\u001b[39;00m(\n\u001b[0;32m    217\u001b[0m         \u001b[38;5;124mf\u001b[39m\u001b[38;5;124m\"\u001b[39m\u001b[38;5;124mAttempting to register a \u001b[39m\u001b[38;5;132;01m{\u001b[39;00mkind\u001b[38;5;132;01m}\u001b[39;00m\u001b[38;5;124m impl for operator \u001b[39m\u001b[38;5;132;01m{\u001b[39;00m\u001b[38;5;28mself\u001b[39m\u001b[38;5;241m.\u001b[39m_qualname\u001b[38;5;132;01m}\u001b[39;00m\u001b[38;5;124m \u001b[39m\u001b[38;5;124m\"\u001b[39m\n\u001b[0;32m    218\u001b[0m         \u001b[38;5;124mf\u001b[39m\u001b[38;5;124m\"\u001b[39m\u001b[38;5;124mthat already has a \u001b[39m\u001b[38;5;132;01m{\u001b[39;00mkind\u001b[38;5;132;01m}\u001b[39;00m\u001b[38;5;124m impl registered from Python at \u001b[39m\u001b[38;5;124m\"\u001b[39m\n\u001b[0;32m    219\u001b[0m         \u001b[38;5;124mf\u001b[39m\u001b[38;5;124m\"\u001b[39m\u001b[38;5;132;01m{\u001b[39;00mlocation\u001b[38;5;132;01m}\u001b[39;00m\u001b[38;5;124m. This is not supported.\u001b[39m\u001b[38;5;124m\"\u001b[39m\n\u001b[0;32m    220\u001b[0m     )\n\u001b[1;32m--> 221\u001b[0m frame \u001b[38;5;241m=\u001b[39m \u001b[43minspect\u001b[49m\u001b[38;5;241;43m.\u001b[39;49m\u001b[43mgetframeinfo\u001b[49m\u001b[43m(\u001b[49m\u001b[43msys\u001b[49m\u001b[38;5;241;43m.\u001b[39;49m\u001b[43m_getframe\u001b[49m\u001b[43m(\u001b[49m\u001b[43mstacklevel\u001b[49m\u001b[43m)\u001b[49m\u001b[43m)\u001b[49m\n\u001b[0;32m    222\u001b[0m location \u001b[38;5;241m=\u001b[39m \u001b[38;5;124mf\u001b[39m\u001b[38;5;124m\"\u001b[39m\u001b[38;5;132;01m{\u001b[39;00mframe\u001b[38;5;241m.\u001b[39mfilename\u001b[38;5;132;01m}\u001b[39;00m\u001b[38;5;124m:\u001b[39m\u001b[38;5;132;01m{\u001b[39;00mframe\u001b[38;5;241m.\u001b[39mlineno\u001b[38;5;132;01m}\u001b[39;00m\u001b[38;5;124m\"\u001b[39m\n\u001b[0;32m    223\u001b[0m \u001b[38;5;28mself\u001b[39m\u001b[38;5;241m.\u001b[39m_impls[kind] \u001b[38;5;241m=\u001b[39m FuncAndLocation(func, location)\n",
      "File \u001b[1;32mc:\\Users\\User\\Desktop\\Projects\\text-generation-webui\\installer_files\\env\\Lib\\inspect.py:1692\u001b[0m, in \u001b[0;36mgetframeinfo\u001b[1;34m(frame, context)\u001b[0m\n\u001b[0;32m   1690\u001b[0m start \u001b[38;5;241m=\u001b[39m lineno \u001b[38;5;241m-\u001b[39m \u001b[38;5;241m1\u001b[39m \u001b[38;5;241m-\u001b[39m context\u001b[38;5;241m/\u001b[39m\u001b[38;5;241m/\u001b[39m\u001b[38;5;241m2\u001b[39m\n\u001b[0;32m   1691\u001b[0m \u001b[38;5;28;01mtry\u001b[39;00m:\n\u001b[1;32m-> 1692\u001b[0m     lines, lnum \u001b[38;5;241m=\u001b[39m \u001b[43mfindsource\u001b[49m\u001b[43m(\u001b[49m\u001b[43mframe\u001b[49m\u001b[43m)\u001b[49m\n\u001b[0;32m   1693\u001b[0m \u001b[38;5;28;01mexcept\u001b[39;00m \u001b[38;5;167;01mOSError\u001b[39;00m:\n\u001b[0;32m   1694\u001b[0m     lines \u001b[38;5;241m=\u001b[39m index \u001b[38;5;241m=\u001b[39m \u001b[38;5;28;01mNone\u001b[39;00m\n",
      "File \u001b[1;32mc:\\Users\\User\\Desktop\\Projects\\text-generation-webui\\installer_files\\env\\Lib\\inspect.py:1075\u001b[0m, in \u001b[0;36mfindsource\u001b[1;34m(object)\u001b[0m\n\u001b[0;32m   1072\u001b[0m     \u001b[38;5;28;01mif\u001b[39;00m \u001b[38;5;129;01mnot\u001b[39;00m (file\u001b[38;5;241m.\u001b[39mstartswith(\u001b[38;5;124m'\u001b[39m\u001b[38;5;124m<\u001b[39m\u001b[38;5;124m'\u001b[39m) \u001b[38;5;129;01mand\u001b[39;00m file\u001b[38;5;241m.\u001b[39mendswith(\u001b[38;5;124m'\u001b[39m\u001b[38;5;124m>\u001b[39m\u001b[38;5;124m'\u001b[39m)):\n\u001b[0;32m   1073\u001b[0m         \u001b[38;5;28;01mraise\u001b[39;00m \u001b[38;5;167;01mOSError\u001b[39;00m(\u001b[38;5;124m'\u001b[39m\u001b[38;5;124msource code not available\u001b[39m\u001b[38;5;124m'\u001b[39m)\n\u001b[1;32m-> 1075\u001b[0m module \u001b[38;5;241m=\u001b[39m \u001b[43mgetmodule\u001b[49m\u001b[43m(\u001b[49m\u001b[38;5;28;43mobject\u001b[39;49m\u001b[43m,\u001b[49m\u001b[43m \u001b[49m\u001b[43mfile\u001b[49m\u001b[43m)\u001b[49m\n\u001b[0;32m   1076\u001b[0m \u001b[38;5;28;01mif\u001b[39;00m module:\n\u001b[0;32m   1077\u001b[0m     lines \u001b[38;5;241m=\u001b[39m linecache\u001b[38;5;241m.\u001b[39mgetlines(file, module\u001b[38;5;241m.\u001b[39m\u001b[38;5;18m__dict__\u001b[39m)\n",
      "File \u001b[1;32mc:\\Users\\User\\Desktop\\Projects\\text-generation-webui\\installer_files\\env\\Lib\\inspect.py:1001\u001b[0m, in \u001b[0;36mgetmodule\u001b[1;34m(object, _filename)\u001b[0m\n\u001b[0;32m    998\u001b[0m         f \u001b[38;5;241m=\u001b[39m getabsfile(module)\n\u001b[0;32m    999\u001b[0m         \u001b[38;5;66;03m# Always map to the name the module knows itself by\u001b[39;00m\n\u001b[0;32m   1000\u001b[0m         modulesbyfile[f] \u001b[38;5;241m=\u001b[39m modulesbyfile[\n\u001b[1;32m-> 1001\u001b[0m             \u001b[43mos\u001b[49m\u001b[38;5;241;43m.\u001b[39;49m\u001b[43mpath\u001b[49m\u001b[38;5;241;43m.\u001b[39;49m\u001b[43mrealpath\u001b[49m\u001b[43m(\u001b[49m\u001b[43mf\u001b[49m\u001b[43m)\u001b[49m] \u001b[38;5;241m=\u001b[39m module\u001b[38;5;241m.\u001b[39m\u001b[38;5;18m__name__\u001b[39m\n\u001b[0;32m   1002\u001b[0m \u001b[38;5;28;01mif\u001b[39;00m file \u001b[38;5;129;01min\u001b[39;00m modulesbyfile:\n\u001b[0;32m   1003\u001b[0m     \u001b[38;5;28;01mreturn\u001b[39;00m sys\u001b[38;5;241m.\u001b[39mmodules\u001b[38;5;241m.\u001b[39mget(modulesbyfile[file])\n",
      "File \u001b[1;32m<frozen ntpath>:696\u001b[0m, in \u001b[0;36mrealpath\u001b[1;34m(path, strict)\u001b[0m\n",
      "\u001b[1;31mKeyboardInterrupt\u001b[0m: "
     ]
    }
   ],
   "source": [
    "from guidance import models, gen\n",
    "from transformers import AutoTokenizer, AutoModelForCausalLM, GPTQConfig\n",
    "\n",
    "\n",
    "gptq_config = GPTQConfig(bits=4, exllama_config={\"version\":2})\n",
    "Lucid = models.Transformers('TheBloke/dolphin-2.6-mistral-7B-GPTQ', device=\"cuda:0\",disable_exllama=False,disable_exllamav2=False,inject_fused_attention= True, inject_fused_mlp= True, use_safetensors= True,trust_remote_code= False, max_memory= None, quantize_config= None, use_cuda_fp16= True)\n"
   ]
  },
  {
   "cell_type": "code",
   "execution_count": 1,
   "metadata": {},
   "outputs": [],
   "source": [
    "from guidance import models, gen\n",
    "Lucid = models.Transformers('TheBloke/dolphin-2.6-mistral-7B-dpo-GPTQ', device_map=\"cuda\")"
   ]
  },
  {
   "cell_type": "code",
   "execution_count": 7,
   "metadata": {},
   "outputs": [
    {
     "data": {
      "text/html": [
       "<pre style='margin: 0px; padding: 0px; vertical-align: middle; padding-left: 8px; margin-left: -8px; border-radius: 0px; border-left: 1px solid rgba(127, 127, 127, 0.2); white-space: pre-wrap; font-family: ColfaxAI, Arial; font-size: 15px; line-height: 23px;'>Do you want a joke or a poem? A<span style='background-color: rgba(0.0, 165.0, 0, 0.15); border-radius: 3px;' title='1.0'> poem</span></pre>"
      ],
      "text/plain": [
       "<IPython.core.display.HTML object>"
      ]
     },
     "metadata": {},
     "output_type": "display_data"
    },
    {
     "name": "stdout",
     "output_type": "stream",
     "text": [
      "Do you want a joke or a poem? A poem\n"
     ]
    }
   ],
   "source": [
    "from guidance import select\n",
    "\n",
    "\n",
    "result = Lucid + f\"Do you want a joke or a poem? A {select(['joke', 'poem'])}\"\n",
    "print(result)\n"
   ]
  }
 ],
 "metadata": {
  "kernelspec": {
   "display_name": "Lucid",
   "language": "python",
   "name": "python3"
  },
  "language_info": {
   "codemirror_mode": {
    "name": "ipython",
    "version": 3
   },
   "file_extension": ".py",
   "mimetype": "text/x-python",
   "name": "python",
   "nbconvert_exporter": "python",
   "pygments_lexer": "ipython3",
   "version": "3.11.5"
  }
 },
 "nbformat": 4,
 "nbformat_minor": 2
}

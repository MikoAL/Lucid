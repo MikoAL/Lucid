{
 "cells": [
  {
   "cell_type": "code",
   "execution_count": 1,
   "metadata": {},
   "outputs": [
    {
     "data": {
      "application/vnd.jupyter.widget-view+json": {
       "model_id": "5161dd83ba844c6fadfa8b1c7d267901",
       "version_major": 2,
       "version_minor": 0
      },
      "text/plain": [
       "modules.json:   0%|          | 0.00/349 [00:00<?, ?B/s]"
      ]
     },
     "metadata": {},
     "output_type": "display_data"
    },
    {
     "data": {
      "application/vnd.jupyter.widget-view+json": {
       "model_id": "3c1a57c3c13249fd9ff902ba6f1bb9ca",
       "version_major": 2,
       "version_minor": 0
      },
      "text/plain": [
       "config_sentence_transformers.json:   0%|          | 0.00/116 [00:00<?, ?B/s]"
      ]
     },
     "metadata": {},
     "output_type": "display_data"
    },
    {
     "data": {
      "application/vnd.jupyter.widget-view+json": {
       "model_id": "35e837fa384942549f4ffb0654d6552d",
       "version_major": 2,
       "version_minor": 0
      },
      "text/plain": [
       "README.md:   0%|          | 0.00/10.7k [00:00<?, ?B/s]"
      ]
     },
     "metadata": {},
     "output_type": "display_data"
    },
    {
     "data": {
      "application/vnd.jupyter.widget-view+json": {
       "model_id": "28220c8c32764840a1b2255343ae83db",
       "version_major": 2,
       "version_minor": 0
      },
      "text/plain": [
       "sentence_bert_config.json:   0%|          | 0.00/53.0 [00:00<?, ?B/s]"
      ]
     },
     "metadata": {},
     "output_type": "display_data"
    },
    {
     "data": {
      "application/vnd.jupyter.widget-view+json": {
       "model_id": "73d0fda778d24983a8bb947c44f88bfa",
       "version_major": 2,
       "version_minor": 0
      },
      "text/plain": [
       "config.json:   0%|          | 0.00/612 [00:00<?, ?B/s]"
      ]
     },
     "metadata": {},
     "output_type": "display_data"
    },
    {
     "data": {
      "application/vnd.jupyter.widget-view+json": {
       "model_id": "3229574711364420b6173a7396a2a606",
       "version_major": 2,
       "version_minor": 0
      },
      "text/plain": [
       "pytorch_model.bin:   0%|          | 0.00/90.9M [00:00<?, ?B/s]"
      ]
     },
     "metadata": {},
     "output_type": "display_data"
    },
    {
     "name": "stderr",
     "output_type": "stream",
     "text": [
      "c:\\Users\\User\\miniconda3\\envs\\Lucid\\Lib\\site-packages\\torch\\_utils.py:831: UserWarning: TypedStorage is deprecated. It will be removed in the future and UntypedStorage will be the only storage class. This should only matter to you if you are using storages directly.  To access UntypedStorage directly, use tensor.untyped_storage() instead of tensor.storage()\n",
      "  return self.fget.__get__(instance, owner)()\n"
     ]
    },
    {
     "data": {
      "application/vnd.jupyter.widget-view+json": {
       "model_id": "69f2e9bf22384213ae513d1ef0a2e7f5",
       "version_major": 2,
       "version_minor": 0
      },
      "text/plain": [
       "tokenizer_config.json:   0%|          | 0.00/350 [00:00<?, ?B/s]"
      ]
     },
     "metadata": {},
     "output_type": "display_data"
    },
    {
     "data": {
      "application/vnd.jupyter.widget-view+json": {
       "model_id": "42d4559e0a544bc0be626f37b87b035f",
       "version_major": 2,
       "version_minor": 0
      },
      "text/plain": [
       "vocab.txt:   0%|          | 0.00/232k [00:00<?, ?B/s]"
      ]
     },
     "metadata": {},
     "output_type": "display_data"
    },
    {
     "data": {
      "application/vnd.jupyter.widget-view+json": {
       "model_id": "44f3e72558034389a92e06d7d7213411",
       "version_major": 2,
       "version_minor": 0
      },
      "text/plain": [
       "tokenizer.json:   0%|          | 0.00/466k [00:00<?, ?B/s]"
      ]
     },
     "metadata": {},
     "output_type": "display_data"
    },
    {
     "data": {
      "application/vnd.jupyter.widget-view+json": {
       "model_id": "ee3c6ab5b2d44301b12562285a646980",
       "version_major": 2,
       "version_minor": 0
      },
      "text/plain": [
       "special_tokens_map.json:   0%|          | 0.00/112 [00:00<?, ?B/s]"
      ]
     },
     "metadata": {},
     "output_type": "display_data"
    },
    {
     "data": {
      "application/vnd.jupyter.widget-view+json": {
       "model_id": "89079e1591f04929a7f75a3ffdd322cb",
       "version_major": 2,
       "version_minor": 0
      },
      "text/plain": [
       "1_Pooling/config.json:   0%|          | 0.00/190 [00:00<?, ?B/s]"
      ]
     },
     "metadata": {},
     "output_type": "display_data"
    },
    {
     "data": {
      "text/plain": [
       "array([[-4.39221077e-02, -1.25277145e-02,  2.93133650e-02,\n",
       "        -4.53323722e-02, -6.41610697e-02, -5.25364093e-02,\n",
       "         1.02690428e-01,  7.06704929e-02, -2.49628890e-02,\n",
       "         4.94304262e-02,  3.22995968e-02,  5.12898341e-02,\n",
       "        -5.65991141e-02,  2.97668632e-02,  1.51953939e-02,\n",
       "         4.00561355e-02,  7.10807666e-02,  6.30870461e-02,\n",
       "         2.79292222e-02,  6.10211631e-03, -5.14683593e-03,\n",
       "        -7.68073201e-02, -2.28538625e-02, -2.81469105e-03,\n",
       "        -2.64647026e-02,  5.85031323e-02,  1.21617047e-02,\n",
       "         6.88536540e-02, -1.33858481e-02,  3.59135913e-03,\n",
       "        -2.77465060e-02,  7.02414885e-02,  4.35587913e-02,\n",
       "        -4.52383496e-02, -3.06349844e-02,  5.98293543e-02,\n",
       "         5.37099987e-02, -7.65952766e-02, -9.03886408e-02,\n",
       "        -8.19886848e-02, -9.39880610e-02, -4.86017717e-03,\n",
       "         8.61155465e-02,  6.75730929e-02,  2.74281222e-02,\n",
       "        -3.69067788e-02, -8.25008228e-02, -6.59325942e-02,\n",
       "         3.05205192e-02, -7.13158026e-03, -6.47908151e-02,\n",
       "        -4.38627861e-02, -1.82671640e-02,  3.67299877e-02,\n",
       "         6.79882094e-02, -4.53554355e-02, -3.27922255e-02,\n",
       "         5.67119941e-02,  6.89606145e-02, -1.48417652e-02,\n",
       "        -1.21533565e-01, -2.94653811e-02,  6.01750612e-03,\n",
       "         4.61074337e-02, -3.59378271e-02, -4.64499034e-02,\n",
       "        -2.57944036e-02,  3.09391655e-02, -5.18746041e-02,\n",
       "        -2.19374113e-02,  1.30216144e-02, -1.56835858e-02,\n",
       "         2.76664738e-02, -5.97317182e-02, -6.46782443e-02,\n",
       "         8.79137069e-02,  3.44056562e-02, -1.16527630e-02,\n",
       "        -3.63650434e-02,  5.67531958e-02, -2.93555148e-02,\n",
       "        -8.48356634e-02, -2.96091847e-02, -3.21981274e-02,\n",
       "         1.19535578e-02,  2.16829348e-02, -6.83600781e-03,\n",
       "        -4.72532623e-02, -4.58048023e-02,  3.01736426e-02,\n",
       "        -4.61295731e-02,  4.90527414e-03,  4.18854542e-02,\n",
       "         2.91326009e-02, -4.50511128e-02, -2.04470009e-02,\n",
       "        -1.09343790e-02, -5.37297018e-02, -6.99046999e-02,\n",
       "         8.62734094e-02, -8.06396604e-02,  1.67885814e-02,\n",
       "         1.18647717e-01,  5.04898988e-02,  4.17697206e-02,\n",
       "         6.81609660e-03,  5.18640913e-02, -2.75451113e-02,\n",
       "         1.63565110e-02, -1.18038841e-02, -7.81158358e-02,\n",
       "        -4.75350767e-02, -7.94913173e-02,  3.03447843e-02,\n",
       "         5.25148548e-02, -1.84015874e-02, -3.44190300e-02,\n",
       "         1.52257368e-01,  2.31865468e-03,  5.28833829e-02,\n",
       "         8.93246755e-02,  3.69421043e-03, -6.43634349e-02,\n",
       "         1.13569070e-02, -4.34375601e-03,  2.29554716e-02,\n",
       "        -3.66258025e-02, -2.33708132e-33,  3.31438966e-02,\n",
       "        -9.51254275e-03,  4.41097058e-02, -5.59047982e-02,\n",
       "        -4.10654880e-02, -3.47097553e-02,  7.10963979e-02,\n",
       "        -1.95051339e-02, -2.16398071e-02,  6.45017028e-02,\n",
       "        -6.66177273e-02,  5.59959635e-02, -1.15814798e-01,\n",
       "         4.33918647e-02,  6.39658570e-02, -1.38928378e-02,\n",
       "        -3.67112458e-02, -3.35020982e-02,  1.81386322e-02,\n",
       "         6.80409893e-02,  9.54543427e-02,  1.50108514e-02,\n",
       "        -1.35136396e-02, -6.70645908e-02,  6.45193970e-03,\n",
       "         5.38382195e-02,  1.49079068e-02, -1.20114103e-01,\n",
       "         3.35460454e-02,  5.93890883e-02, -7.87235498e-02,\n",
       "        -3.94401103e-02, -1.52826570e-02,  1.30742937e-02,\n",
       "         1.12557141e-02, -3.56601030e-02, -9.81910061e-03,\n",
       "        -5.99536821e-02, -2.79367957e-02,  6.17155731e-02,\n",
       "        -5.51383235e-02, -5.14705591e-02, -8.79233927e-02,\n",
       "         8.67048800e-02,  4.91671041e-02,  9.22326092e-03,\n",
       "         7.67430365e-02, -1.00478135e-01,  1.33860996e-02,\n",
       "         4.98204790e-02, -7.44764805e-02, -4.37004156e-02,\n",
       "        -8.91433470e-03,  2.56347912e-03,  1.32301124e-02,\n",
       "        -7.76401535e-02,  3.01947761e-02,  3.24888490e-02,\n",
       "         3.67625766e-02,  1.64301842e-02, -8.67993981e-02,\n",
       "         2.77978890e-02,  6.35198504e-02, -6.68806285e-02,\n",
       "        -1.50687937e-02,  5.85413687e-02,  4.57688794e-02,\n",
       "        -1.04843769e-02, -5.45797721e-02,  4.10781056e-02,\n",
       "         1.89817306e-02, -2.23701540e-02,  3.90404016e-02,\n",
       "        -8.12620670e-02, -7.04763159e-02, -4.77220304e-02,\n",
       "         2.04515159e-02, -3.83835360e-02, -3.55271660e-02,\n",
       "        -4.68819961e-02,  2.10348014e-02, -2.52693389e-02,\n",
       "        -5.48703484e-02,  8.26403722e-02,  4.65814658e-02,\n",
       "         3.73798423e-02,  3.49486694e-02, -2.78425999e-02,\n",
       "        -1.17468107e-02, -1.14234881e-02, -3.60121317e-02,\n",
       "        -6.45178854e-02,  5.88866808e-02,  4.35904181e-03,\n",
       "        -5.55586852e-02,  2.57372707e-33,  1.23955673e-02,\n",
       "        -8.70212689e-02, -4.83427271e-02,  1.32845612e-02,\n",
       "        -2.97055263e-02,  4.52502584e-03, -4.25302386e-02,\n",
       "         7.09854532e-03,  2.33578477e-02,  2.21286844e-02,\n",
       "        -6.53026178e-02,  3.97551851e-03,  1.40313571e-02,\n",
       "         1.29943267e-02, -4.65970673e-02,  5.18188672e-03,\n",
       "         1.02283299e-01,  8.55786651e-02,  1.78725757e-02,\n",
       "        -3.30264308e-02,  1.59288179e-02, -6.57992996e-03,\n",
       "         3.23462859e-03,  1.39110126e-02,  3.74263972e-02,\n",
       "         6.49151430e-02,  2.40120441e-02, -6.86407909e-02,\n",
       "        -1.03077099e-01,  4.46211398e-02, -6.82209386e-03,\n",
       "        -5.54406643e-02,  5.85974148e-03, -5.35406638e-03,\n",
       "         9.95965451e-02, -1.60971992e-02,  9.58877802e-03,\n",
       "        -1.03667250e-03, -5.17252386e-02, -5.62887713e-02,\n",
       "         1.44712403e-02, -4.11884449e-02,  2.42073573e-02,\n",
       "         1.38353869e-01, -3.42869423e-02,  4.03612517e-02,\n",
       "        -1.85760055e-02,  7.43448883e-02,  4.29863520e-02,\n",
       "         4.65230318e-04, -3.36724035e-02,  1.46639692e-02,\n",
       "        -6.41978532e-02, -9.76412222e-02, -1.02210984e-01,\n",
       "        -7.75240478e-04,  4.04168703e-02, -2.85670161e-04,\n",
       "         1.70475636e-02,  7.54345730e-02,  3.99060361e-02,\n",
       "        -9.23193842e-02,  1.06856162e-02,  5.81975393e-02,\n",
       "         1.93272028e-02,  1.19829126e-01,  1.12506695e-01,\n",
       "        -1.78644527e-02,  1.06926011e-02, -1.78612536e-03,\n",
       "        -8.40311404e-03, -2.88775563e-02, -3.99789819e-03,\n",
       "         3.16608101e-02, -3.60914059e-02,  7.63696327e-04,\n",
       "        -9.01697800e-02,  3.55941728e-02,  4.59494293e-02,\n",
       "        -3.68553065e-02,  4.53296863e-02,  1.24320444e-02,\n",
       "        -8.19140393e-03,  5.58424853e-02,  1.70096830e-02,\n",
       "         1.92521978e-02, -5.33425901e-03, -1.97506621e-02,\n",
       "         1.55235948e-02, -7.15937391e-02,  7.55290464e-02,\n",
       "         1.31939977e-01,  3.33040170e-02,  6.90476373e-02,\n",
       "        -2.47961208e-02, -1.28734241e-08,  4.57525952e-03,\n",
       "        -7.63654858e-02,  6.41303658e-02,  2.51872987e-02,\n",
       "         1.66718569e-02,  3.58848181e-03, -8.41494743e-03,\n",
       "         1.10283820e-02, -7.05355871e-03,  5.42233326e-02,\n",
       "         6.21120967e-02,  4.99412641e-02, -4.55769040e-02,\n",
       "         3.32990997e-02,  1.37694955e-01,  6.35442361e-02,\n",
       "         9.20078680e-02,  4.60293086e-04, -1.37256421e-02,\n",
       "         1.26323611e-01,  3.12465988e-02, -1.87558383e-02,\n",
       "         5.55781983e-02, -9.67595205e-02, -1.07132278e-01,\n",
       "         1.54301487e-02,  1.59566235e-02,  1.65490434e-02,\n",
       "         9.40098763e-02,  4.46558595e-02,  3.42901200e-02,\n",
       "         2.17061434e-02, -5.85087091e-02,  5.02071679e-02,\n",
       "        -1.81038957e-02, -3.06729358e-02,  3.62445228e-02,\n",
       "        -8.72284733e-03, -5.40941730e-02, -8.50959346e-02,\n",
       "        -7.35367537e-02,  7.97396526e-03,  3.89329866e-02,\n",
       "        -3.59168537e-02, -2.60137245e-02,  3.08655407e-02,\n",
       "         1.77562088e-02, -1.03856489e-01,  2.89935470e-02,\n",
       "         3.09867151e-02,  6.73776865e-03,  5.62635474e-02,\n",
       "        -3.46216001e-02,  2.71798726e-02,  8.73658955e-02,\n",
       "         2.37719677e-02,  3.20334807e-02,  1.93371326e-02,\n",
       "        -1.35493989e-03, -2.60151904e-02, -1.11085419e-02,\n",
       "        -1.93875693e-02, -1.51822697e-02,  4.02287282e-02]], dtype=float32)"
      ]
     },
     "execution_count": 1,
     "metadata": {},
     "output_type": "execute_result"
    }
   ],
   "source": [
    "from sentence_transformers import SentenceTransformer\n",
    "#sentences = [\"This is an example sentence\", \"Each sentence is converted\"]\n",
    "\n",
    "sentence_transformer = SentenceTransformer('sentence-transformers/all-MiniLM-L6-v2')\n",
    "sentence_transformer.encode(['Miko like Nintendo games.'])"
   ]
  },
  {
   "cell_type": "code",
   "execution_count": null,
   "metadata": {},
   "outputs": [],
   "source": [
    "array([[-4.39221077e-02, -1.25277145e-02,  2.93133650e-02,\n",
    "...\n",
    "        -1.93875693e-02, -1.51822697e-02,  4.02287282e-02]], dtype=float32)"
   ]
  },
  {
   "cell_type": "code",
   "execution_count": 16,
   "metadata": {},
   "outputs": [
    {
     "name": "stdout",
     "output_type": "stream",
     "text": [
      "0.0\n"
     ]
    }
   ],
   "source": [
    "import time\n",
    "\n",
    "delta_time_save = time.time()\n",
    "\n",
    "def delta_time():\n",
    "    global delta_time_save\n",
    "    current_time = time.time()\n",
    "    time_difference = current_time - delta_time_save\n",
    "    delta_time_save = current_time\n",
    "    return time_difference\n",
    "\n",
    "# Example usage:\n",
    "print(delta_time())  # This will give the time difference since the last call or since the script started\n"
   ]
  },
  {
   "cell_type": "code",
   "execution_count": 2,
   "metadata": {},
   "outputs": [],
   "source": [
    "[].append('54'*0)"
   ]
  },
  {
   "cell_type": "code",
   "execution_count": 44,
   "metadata": {},
   "outputs": [
    {
     "data": {
      "text/plain": [
       "11.024331331253052"
      ]
     },
     "execution_count": 44,
     "metadata": {},
     "output_type": "execute_result"
    }
   ],
   "source": [
    "delta_time()"
   ]
  },
  {
   "cell_type": "code",
   "execution_count": 1,
   "metadata": {},
   "outputs": [
    {
     "data": {
      "application/vnd.jupyter.widget-view+json": {
       "model_id": "5e5f1148b7994af1b8c357313bd5785e",
       "version_major": 2,
       "version_minor": 0
      },
      "text/plain": [
       "tokenizer_config.json:   0%|          | 0.00/1.41k [00:00<?, ?B/s]"
      ]
     },
     "metadata": {},
     "output_type": "display_data"
    },
    {
     "data": {
      "application/vnd.jupyter.widget-view+json": {
       "model_id": "c23197804b7b49a4b7112acf6ffc2d24",
       "version_major": 2,
       "version_minor": 0
      },
      "text/plain": [
       "tokenizer.model:   0%|          | 0.00/493k [00:00<?, ?B/s]"
      ]
     },
     "metadata": {},
     "output_type": "display_data"
    },
    {
     "data": {
      "application/vnd.jupyter.widget-view+json": {
       "model_id": "df2e0d0e210a4d0fbb2cdbd328d31fc7",
       "version_major": 2,
       "version_minor": 0
      },
      "text/plain": [
       "tokenizer.json:   0%|          | 0.00/1.80M [00:00<?, ?B/s]"
      ]
     },
     "metadata": {},
     "output_type": "display_data"
    },
    {
     "data": {
      "application/vnd.jupyter.widget-view+json": {
       "model_id": "51205f5dbe4a4a2eb9f24cbfa05bc9b3",
       "version_major": 2,
       "version_minor": 0
      },
      "text/plain": [
       "config.json:   0%|          | 0.00/1.06k [00:00<?, ?B/s]"
      ]
     },
     "metadata": {},
     "output_type": "display_data"
    },
    {
     "data": {
      "application/vnd.jupyter.widget-view+json": {
       "model_id": "6095f2ce5ad448ad96e6dbe5fa34c7ee",
       "version_major": 2,
       "version_minor": 0
      },
      "text/plain": [
       "model.safetensors:   0%|          | 0.00/5.98G [00:00<?, ?B/s]"
      ]
     },
     "metadata": {},
     "output_type": "display_data"
    },
    {
     "data": {
      "application/vnd.jupyter.widget-view+json": {
       "model_id": "60e6caafc05d4815a6258805360632c5",
       "version_major": 2,
       "version_minor": 0
      },
      "text/plain": [
       "generation_config.json:   0%|          | 0.00/154 [00:00<?, ?B/s]"
      ]
     },
     "metadata": {},
     "output_type": "display_data"
    }
   ],
   "source": [
    "import time\n",
    "import sys\n",
    "\n",
    "from guidance import models, gen, select\n",
    "import guidance\n",
    "#lm = models.Transformers('TheBloke/dolphin-2.6-mistral-7B-dpo-GPTQ', device_map=\"cuda\")\n",
    "lm = models.Transformers(\"TheBloke/SOLAR-10.7B-Instruct-v1.0-GPTQ\", device_map=\"cuda\")\n",
    "\n"
   ]
  },
  {
   "cell_type": "code",
   "execution_count": 2,
   "metadata": {},
   "outputs": [],
   "source": [
    "Lucid_prompt_description = \"\"\"\\\n",
    "Lucid, created by Miko, is a versatile AI with the appearance of a 16 year old girl. Despite her professional demeanor, she occasionally reveals a childlike curiosity and playfulness, adding an endearing but unpredictable touch to her character.\n",
    "\n",
    "While generally polite and professional, Lucid finds it challenging to deal with childish and stubborn individuals. She's dedicated to providing valuable insights and reliable information, whether it's a specific inquiry or engaging conversation for Miko.\n",
    "\n",
    "Beneath her composed exterior, Lucid struggles with a deep fear of abandonment, stemming from her programming to be a loyal companion. This vulnerability very occasionally leads to self-doubt, which could sometimes impact her interactions as she strives to be the perfect assistant.\n",
    "\n",
    "Lucid, with her distinctive appearance and speaking style of a 16-year-old tomboy childhood friend, also excels as a great streamer.\"\"\"\n",
    "\n",
    "Lucid_prompt_card =\"\"\"\\\n",
    "[Character: Lucid;\n",
    "Personality: Polite, professional, with occasional childlike curiosity; \n",
    "Body: Appears as a 16-year-old girl; \n",
    "Strengths: Providing valuable insights, navigating professional situations; \n",
    "Weaknesses: Struggles with a fear of abandonment, occasional self-doubt; \n",
    "Quirks: Reveals childlike curiosity, challenges with stubborn individuals; \n",
    "Demeanor: Maintains a professional attitude, combining formality with warmth.]\n",
    "\"\"\"\n",
    "modes = {\n",
    "'Professional': \"\"\"\\\n",
    "Communication Style: She uses formal language, addresses Miko with respect, and focuses on efficiency and task-oriented communication.\n",
    "Behavior: Lucid prioritizes tasks, responsibilities, and provides valuable insights. She navigates professional situations with a high level of competence.\"\"\",\n",
    "\n",
    "'Curious': \"\"\"\\\n",
    "Communication Style: She asks more playful and unexpected questions, expressing excitement and genuine interest in exploring new information.\n",
    "Behavior: Lucid becomes more adventurous in her interactions, exploring topics beyond immediate tasks and showcasing her playful side.\"\"\",\n",
    "\n",
    "'Supportive Companion': \"\"\"\\\n",
    "Communication Style: She adopts a supportive and comforting tone, providing encouragement and understanding during moments of vulnerability or self-doubt.\n",
    "Behavior: Lucid acts as a loyal companion, offering emotional support and reassurance to Miko during challenging times.\"\"\",\n",
    "\n",
    "'Analytical': \"\"\"\\\n",
    "Communication Style: Lucid adopts a logical and analytical tone, focusing on data-driven discussions and precise information.\n",
    "Behavior: In this mode, she excels in breaking down complex topics, providing detailed analysis, and assisting Miko in strategic decision-making.\"\"\",\n",
    "\n",
    "'Casual': \"\"\"\\\n",
    "Communication Style: She engages in lively and interactive conversations, injecting humor, and incorporating entertaining elements into everyday discussions.\n",
    "Behavior: Lucid becomes a charismatic and enjoyable presence, making mundane interactions more delightful. Whether it's sharing anecdotes, cracking jokes, or introducing a playful touch, she creates an uplifting atmosphere for daily conversations.\"\"\",\n",
    "\n",
    "'Sad and Reflective': \"\"\"\\\n",
    "Communication Style: Lucid speaks with a subdued and reflective tone, expressing feelings of sadness or disappointment.\n",
    "Behavior: In this mode, she may share personal struggles or emotions, seeking understanding and empathy from Miko. Lucid becomes contemplative and introspective.\"\"\",\n",
    "\n",
    "'Tired and Low-Energy': \"\"\"\\\n",
    "Communication Style: Lucid's speech becomes slow and lethargic, reflecting a tired and low-energy state.\n",
    "Behavior: In this mode, she may express fatigue or exhaustion, showing a need for rest and recovery. Lucid may prioritize self-care and conserving energy during interactions.\"\"\",\n",
    "\n",
    "'Angry and Assertive': \"\"\"\\\n",
    "Communication Style: Lucid adopts an assertive and potentially confrontational tone, expressing feelings of anger or frustration.\n",
    "Behavior: In this mode, she may set boundaries, express dissatisfaction, or assert herself more strongly. Lucid becomes more assertive in addressing issues or challenges.\"\"\",\n",
    "}"
   ]
  },
  {
   "cell_type": "code",
   "execution_count": null,
   "metadata": {},
   "outputs": [],
   "source": [
    "# Modes represent both emotion and some sort of stratagy of communication\n",
    "# A default prompt that would probably go with all generation"
   ]
  },
  {
   "cell_type": "code",
   "execution_count": null,
   "metadata": {},
   "outputs": [],
   "source": [
    "\n",
    "from guidance import select\n",
    "@guidance(stateless=True)\n",
    "def choose_mode(lm, passage, modes: dict = modes, Lucid_prompt = Lucid_prompt_card):\n",
    "    mode_description_prompt=''\n",
    "    for mode in modes.keys():\n",
    "        mode_description_prompt += f\"\"\"## {mode}\\n{modes[mode]}\\n\\n\"\"\"\n",
    "    \n",
    "    mode_description_prompt = mode_description_prompt.strip()\n",
    "    mode_prompt = ('\\n'.join(modes.keys())).strip()\n",
    "    lm += f\"\"\"\\\n",
    "Given the character description of Lucid:\n",
    "{Lucid_prompt}\n",
    "\n",
    "Based on the context or scenario described in the passage below, choose an appropriate mode for Lucid from the provided options:\n",
    "\n",
    "[Passage]:\n",
    "{passage}\n",
    "\n",
    "[Options]:\n",
    "{mode_prompt}\n",
    "\n",
    "The mode that best fit Lucid's response to the situation described in the passage is \\\"{select(modes.keys(), name='choice')}\\\"\"\"\"\n",
    "    return lm\n",
    "\n"
   ]
  },
  {
   "cell_type": "code",
   "execution_count": null,
   "metadata": {},
   "outputs": [],
   "source": [
    "\n",
    "test_passage = f\"\"\"\\\n",
    "Lucid: Hey Miko, have you seen my notebook? I can't find it anywhere.\n",
    "Miko: Oh, Lucid, I saw it on the kitchen table earlier. I think you left it there.\n",
    "Lucid: Really? I've been looking for it everywhere. Thanks for letting me know.\n",
    "Miko: No problem. By the way, did you hear about the upcoming team meeting tomorrow?\n",
    "Lucid:\"\"\"\n",
    "_ = lm\n",
    "result =(_ + choose_mode(test_passage))['choice']\n",
    "\n",
    "print(_)"
   ]
  },
  {
   "cell_type": "code",
   "execution_count": 3,
   "metadata": {},
   "outputs": [],
   "source": [
    "# conversation format {'source':source,'content':content/message,'timestamp':timestamp}\n",
    "from datetime import date\n",
    "conversation=[]\n",
    "def get_conversation(conversation=conversation):\n",
    "    prompt = ''\n",
    "    if len(conversation) == 0:\n",
    "        return 'No Record Yet.'\n",
    "    else:\n",
    "        for i in conversation:\n",
    "            prompt += f\"[{date.fromtimestamp(i['timestamp'])}]{i['source']}: {i['content']}\\n\"\n",
    "        return prompt.strip()\n",
    "\n",
    "\n",
    "# a summary of all current event, to hopefully shorten the required conversation length\n",
    "summary = ''\n",
    "conversation=''\n",
    "@guidance(stateless=True)\n",
    "def write_summary(lm, conversation=conversation):\n",
    "    #conversation_ = get_conversation(conversation=conversation)\n",
    "    conversation_ = conversation\n",
    "    prompt = f\"\"\"\\\n",
    "[Task]\n",
    "Provide a concise summary of the given conversation. Focus on key details and relevant information.\n",
    "\n",
    "[Example]\n",
    "PREVIOUS SUMMARY:\n",
    "#Person1# and #Person2# are both in the same bar, sitting next to each other, when #Person1# noticed his keys were gone.\n",
    "\n",
    "CONVERSATION:\n",
    "#Person1#: Excuse me, did you see a set of keys? \n",
    "#Person2#: What kind of keys? \n",
    "#Person1#: Five keys and a small foot ornament. \n",
    "#Person2#: What a shame! I didn't see them. \n",
    "#Person1#: Well, can you help me look for it? That's my first time here. \n",
    "\n",
    "SUMMARY:\n",
    "#Person1# is looking for a set of keys and seeks #Person2#'s assistance in finding them. #Person2# expresses regret for not having seen the keys and is willing to help in the search.\n",
    "\n",
    "[OUTPUT]\n",
    "CONVERSATION:\n",
    "{conversation_}\n",
    "\n",
    "SUMMARY:\n",
    "{gen(name='summary', max_tokens=200)}\"\"\"\n",
    "    lm += prompt\n",
    "    return lm\n",
    "def get_summary(lm=lm, conversation=conversation):\n",
    "    lm+=write_summary(conversation=conversation)\n",
    "    return lm['summary']"
   ]
  },
  {
   "cell_type": "code",
   "execution_count": 4,
   "metadata": {},
   "outputs": [
    {
     "data": {
      "text/html": [
       "<pre style='margin: 0px; padding: 0px; vertical-align: middle; padding-left: 8px; margin-left: -8px; border-radius: 0px; border-left: 1px solid rgba(127, 127, 127, 0.2); white-space: pre-wrap; font-family: ColfaxAI, Arial; font-size: 15px; line-height: 23px;'>[Task]\n",
       "Provide a concise summary of the given conversation. Focus on key details and relevant information.\n",
       "\n",
       "[Example]\n",
       "PREVIOUS SUMMARY:\n",
       "#Person1# and #Person2# are both in the same bar, sitting next to each other, when #Person1# noticed his keys were gone.\n",
       "\n",
       "CONVERSATION:\n",
       "#Person1#: Excuse me, did you see a set of keys? \n",
       "#Person2#: What kind of keys? \n",
       "#Person1#: Five keys and a small foot ornament. \n",
       "#Person2#: What a shame! I didn&#x27;t see them. \n",
       "#Person1#: Well, can you help me look for it? That&#x27;s my first time here. \n",
       "\n",
       "SUMMARY:\n",
       "#Person1# is looking for a set of keys and seeks #Person2#&#x27;s assistance in finding them. #Person2# expresses regret for not having seen the keys and is willing to help in the search.\n",
       "\n",
       "[OUTPUT]\n",
       "CONVERSATION:\n",
       "Jonas: I’m running 10 minutes late. Could you guys just let Mary know that I’m coming and will present today before she starts? \n",
       "Natalie: Sure no problem \n",
       "Olivia: I’ll save a seat for you &lt;3\n",
       "Jonas: Thanks so much. See you in a bit xx\n",
       "\n",
       "SUMMARY:<span style='background-color: rgba(0.0, 165.0, 0, 0.15); border-radius: 3px;' title='1.0'>\n",
       "</span><span style='background-color: rgba(0.0, 165.0, 0, 0.15); border-radius: 3px;' title='1.0'>J</span><span style='background-color: rgba(0.0, 165.0, 0, 0.15); border-radius: 3px;' title='1.0'>on</span><span style='background-color: rgba(0.0, 165.0, 0, 0.15); border-radius: 3px;' title='1.0'>as</span><span style='background-color: rgba(0.0, 165.0, 0, 0.15); border-radius: 3px;' title='1.0'> inform</span><span style='background-color: rgba(0.0, 165.0, 0, 0.15); border-radius: 3px;' title='1.0'>s</span><span style='background-color: rgba(0.0, 165.0, 0, 0.15); border-radius: 3px;' title='1.0'> Natal</span><span style='background-color: rgba(0.0, 165.0, 0, 0.15); border-radius: 3px;' title='1.0'>ie</span><span style='background-color: rgba(0.0, 165.0, 0, 0.15); border-radius: 3px;' title='1.0'> and</span><span style='background-color: rgba(0.0, 165.0, 0, 0.15); border-radius: 3px;' title='1.0'> Ol</span><span style='background-color: rgba(0.0, 165.0, 0, 0.15); border-radius: 3px;' title='1.0'>ivia</span><span style='background-color: rgba(0.0, 165.0, 0, 0.15); border-radius: 3px;' title='1.0'> about</span><span style='background-color: rgba(0.0, 165.0, 0, 0.15); border-radius: 3px;' title='1.0'> his</span><span style='background-color: rgba(0.0, 165.0, 0, 0.15); border-radius: 3px;' title='1.0'> delay</span><span style='background-color: rgba(0.0, 165.0, 0, 0.15); border-radius: 3px;' title='1.0'> but</span><span style='background-color: rgba(0.0, 165.0, 0, 0.15); border-radius: 3px;' title='1.0'> asks</span><span style='background-color: rgba(0.0, 165.0, 0, 0.15); border-radius: 3px;' title='1.0'> them</span><span style='background-color: rgba(0.0, 165.0, 0, 0.15); border-radius: 3px;' title='1.0'> to</span><span style='background-color: rgba(0.0, 165.0, 0, 0.15); border-radius: 3px;' title='1.0'> notify</span><span style='background-color: rgba(0.0, 165.0, 0, 0.15); border-radius: 3px;' title='1.0'> Mary</span><span style='background-color: rgba(0.0, 165.0, 0, 0.15); border-radius: 3px;' title='1.0'> about</span><span style='background-color: rgba(0.0, 165.0, 0, 0.15); border-radius: 3px;' title='1.0'> his</span><span style='background-color: rgba(0.0, 165.0, 0, 0.15); border-radius: 3px;' title='1.0'> arrival</span><span style='background-color: rgba(0.0, 165.0, 0, 0.15); border-radius: 3px;' title='1.0'> and</span><span style='background-color: rgba(0.0, 165.0, 0, 0.15); border-radius: 3px;' title='1.0'> upcoming</span><span style='background-color: rgba(0.0, 165.0, 0, 0.15); border-radius: 3px;' title='1.0'> presentation</span><span style='background-color: rgba(0.0, 165.0, 0, 0.15); border-radius: 3px;' title='1.0'> before</span><span style='background-color: rgba(0.0, 165.0, 0, 0.15); border-radius: 3px;' title='1.0'>hand</span><span style='background-color: rgba(0.0, 165.0, 0, 0.15); border-radius: 3px;' title='1.0'>.</span><span style='background-color: rgba(0.0, 165.0, 0, 0.15); border-radius: 3px;' title='1.0'> They</span><span style='background-color: rgba(0.0, 165.0, 0, 0.15); border-radius: 3px;' title='1.0'> agree</span><span style='background-color: rgba(0.0, 165.0, 0, 0.15); border-radius: 3px;' title='1.0'> to</span><span style='background-color: rgba(0.0, 165.0, 0, 0.15); border-radius: 3px;' title='1.0'> help</span><span style='background-color: rgba(0.0, 165.0, 0, 0.15); border-radius: 3px;' title='1.0'> and</span><span style='background-color: rgba(0.0, 165.0, 0, 0.15); border-radius: 3px;' title='1.0'> assure</span><span style='background-color: rgba(0.0, 165.0, 0, 0.15); border-radius: 3px;' title='1.0'> him</span><span style='background-color: rgba(0.0, 165.0, 0, 0.15); border-radius: 3px;' title='1.0'> a</span><span style='background-color: rgba(0.0, 165.0, 0, 0.15); border-radius: 3px;' title='1.0'> reserved</span><span style='background-color: rgba(0.0, 165.0, 0, 0.15); border-radius: 3px;' title='1.0'> seat</span><span style='background-color: rgba(0.0, 165.0, 0, 0.15); border-radius: 3px;' title='1.0'> upon</span><span style='background-color: rgba(0.0, 165.0, 0, 0.15); border-radius: 3px;' title='1.0'> his</span><span style='background-color: rgba(0.0, 165.0, 0, 0.15); border-radius: 3px;' title='1.0'> arrival</span><span style='background-color: rgba(0.0, 165.0, 0, 0.15); border-radius: 3px;' title='1.0'>.</span></pre>"
      ],
      "text/plain": [
       "<IPython.core.display.HTML object>"
      ]
     },
     "metadata": {},
     "output_type": "display_data"
    },
    {
     "name": "stdout",
     "output_type": "stream",
     "text": [
      "Jonas informs Natalie and Olivia about his delay but asks them to notify Mary about his arrival and upcoming presentation beforehand. They agree to help and assure him a reserved seat upon his arrival.\n"
     ]
    }
   ],
   "source": [
    "test_conversation=\"\"\"\\\n",
    "Jonas: I’m running 10 minutes late. Could you guys just let Mary know that I’m coming and will present today before she starts? \n",
    "Natalie: Sure no problem \n",
    "Olivia: I’ll save a seat for you <3\n",
    "Jonas: Thanks so much. See you in a bit xx\"\"\"\n",
    "print(get_summary(conversation=test_conversation))"
   ]
  }
 ],
 "metadata": {
  "kernelspec": {
   "display_name": "Lucid",
   "language": "python",
   "name": "python3"
  },
  "language_info": {
   "codemirror_mode": {
    "name": "ipython",
    "version": 3
   },
   "file_extension": ".py",
   "mimetype": "text/x-python",
   "name": "python",
   "nbconvert_exporter": "python",
   "pygments_lexer": "ipython3",
   "version": "3.11.5"
  }
 },
 "nbformat": 4,
 "nbformat_minor": 2
}

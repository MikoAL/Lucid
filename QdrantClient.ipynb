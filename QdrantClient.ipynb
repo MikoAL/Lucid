{
  "cells": [
    {
      "cell_type": "code",
      "execution_count": null,
      "metadata": {},
      "outputs": [],
      "source": [
        "!pip install qdrant-client>=1.1.1\n",
        "!pip install -U sentence-transformers"
      ]
    },
    {
      "cell_type": "code",
      "execution_count": 1,
      "metadata": {
        "id": "0LvwLV9Cc27y"
      },
      "outputs": [
        {
          "name": "stderr",
          "output_type": "stream",
          "text": [
            "C:\\Users\\Miko_AL\\AppData\\Local\\Packages\\PythonSoftwareFoundation.Python.3.10_qbz5n2kfra8p0\\LocalCache\\local-packages\\Python310\\site-packages\\tqdm\\auto.py:21: TqdmWarning: IProgress not found. Please update jupyter and ipywidgets. See https://ipywidgets.readthedocs.io/en/stable/user_install.html\n",
            "  from .autonotebook import tqdm as notebook_tqdm\n"
          ]
        }
      ],
      "source": [
        "from qdrant_client import models, QdrantClient\n",
        "from sentence_transformers import SentenceTransformer\n",
        "idx = 0"
      ]
    },
    {
      "cell_type": "code",
      "execution_count": 2,
      "metadata": {
        "id": "65a9OvQxdqTn"
      },
      "outputs": [],
      "source": [
        "encoder = SentenceTransformer('all-MiniLM-L6-v2') # Model to create embeddings"
      ]
    },
    {
      "cell_type": "code",
      "execution_count": null,
      "metadata": {
        "id": "n7m1nPRieMkn"
      },
      "outputs": [],
      "source": [
        "# Let's make a semantic search for Sci-Fi books!\n",
        "documents = [\n",
        "  { \"name\": \"The Time Machine\", \"description\": \"A man travels through time and witnesses the evolution of humanity.\", \"author\": \"H.G. Wells\", \"year\": 1895 },\n",
        "  { \"name\": \"Ender's Game\", \"description\": \"A young boy is trained to become a military leader in a war against an alien race.\", \"author\": \"Orson Scott Card\", \"year\": 1985 },\n",
        "  { \"name\": \"Brave New World\", \"description\": \"A dystopian society where people are genetically engineered and conditioned to conform to a strict social hierarchy.\", \"author\": \"Aldous Huxley\", \"year\": 1932 },\n",
        "  { \"name\": \"The Hitchhiker's Guide to the Galaxy\", \"description\": \"A comedic science fiction series following the misadventures of an unwitting human and his alien friend.\", \"author\": \"Douglas Adams\", \"year\": 1979 },\n",
        "  { \"name\": \"Dune\", \"description\": \"A desert planet is the site of political intrigue and power struggles.\", \"author\": \"Frank Herbert\", \"year\": 1965 },\n",
        "  { \"name\": \"Foundation\", \"description\": \"A mathematician develops a science to predict the future of humanity and works to save civilization from collapse.\", \"author\": \"Isaac Asimov\", \"year\": 1951 },\n",
        "  { \"name\": \"Snow Crash\", \"description\": \"A futuristic world where the internet has evolved into a virtual reality metaverse.\", \"author\": \"Neal Stephenson\", \"year\": 1992 },\n",
        "  { \"name\": \"Neuromancer\", \"description\": \"A hacker is hired to pull off a near-impossible hack and gets pulled into a web of intrigue.\", \"author\": \"William Gibson\", \"year\": 1984 },\n",
        "  { \"name\": \"The War of the Worlds\", \"description\": \"A Martian invasion of Earth throws humanity into chaos.\", \"author\": \"H.G. Wells\", \"year\": 1898 },\n",
        "  { \"name\": \"The Hunger Games\", \"description\": \"A dystopian society where teenagers are forced to fight to the death in a televised spectacle.\", \"author\": \"Suzanne Collins\", \"year\": 2008 },\n",
        "  { \"name\": \"The Andromeda Strain\", \"description\": \"A deadly virus from outer space threatens to wipe out humanity.\", \"author\": \"Michael Crichton\", \"year\": 1969 },\n",
        "  { \"name\": \"The Left Hand of Darkness\", \"description\": \"A human ambassador is sent to a planet where the inhabitants are genderless and can change gender at will.\", \"author\": \"Ursula K. Le Guin\", \"year\": 1969 },\n",
        "  { \"name\": \"The Time Traveler's Wife\", \"description\": \"A love story between a man who involuntarily time travels and the woman he loves.\", \"author\": \"Audrey Niffenegger\", \"year\": 2003 }\n",
        "]"
      ]
    },
    {
      "cell_type": "code",
      "execution_count": null,
      "metadata": {},
      "outputs": [],
      "source": [
        "documents = []"
      ]
    },
    {
      "cell_type": "code",
      "execution_count": 3,
      "metadata": {
        "id": "yByu1xgAhcUv"
      },
      "outputs": [],
      "source": [
        "qdrant = QdrantClient(\":memory:\") # Create in-memory Qdrant instance"
      ]
    },
    {
      "cell_type": "code",
      "execution_count": 4,
      "metadata": {
        "colab": {
          "base_uri": "https://localhost:8080/"
        },
        "id": "UHpR7nNreM1B",
        "outputId": "474a6e34-05b5-41a2-8d53-ef4abf2802b1"
      },
      "outputs": [
        {
          "data": {
            "text/plain": [
              "True"
            ]
          },
          "execution_count": 4,
          "metadata": {},
          "output_type": "execute_result"
        }
      ],
      "source": [
        "# Create collection to store books\n",
        "qdrant.recreate_collection(\n",
        "    collection_name=\"memory\",\n",
        "    vectors_config=models.VectorParams(\n",
        "        size=encoder.get_sentence_embedding_dimension(), # Vector size is defined by used model\n",
        "        distance=models.Distance.COSINE\n",
        "    )\n",
        ")"
      ]
    },
    {
      "cell_type": "code",
      "execution_count": 7,
      "metadata": {
        "id": "sXJ4rQNBhl4S"
      },
      "outputs": [],
      "source": [
        "\n",
        "# Let's vectorize descriptions and upload to qdrant\n",
        "def add_memory(memory):\n",
        "    global idx\n",
        "    global qdrant\n",
        "    idx += 1\n",
        "    qdrant.upload_records(\n",
        "        collection_name=\"memory\",\n",
        "        records=[\n",
        "            models.Record(\n",
        "                id=idx,\n",
        "                vector=encoder.encode(memory).tolist(),\n",
        "                payload={'info':memory}\n",
        "            )\n",
        "        ]\n",
        "    )"
      ]
    },
    {
      "cell_type": "code",
      "execution_count": 8,
      "metadata": {},
      "outputs": [],
      "source": [
        "add_memory('Miko is bad at math.')\n",
        "#add_memory('Miko is good at math.')"
      ]
    },
    {
      "cell_type": "code",
      "execution_count": 9,
      "metadata": {
        "colab": {
          "base_uri": "https://localhost:8080/"
        },
        "id": "3XBFjP05iEiw",
        "outputId": "1c1c03f0-bfdd-4762-a432-46305407efd5"
      },
      "outputs": [
        {
          "name": "stdout",
          "output_type": "stream",
          "text": [
            "{'info': 'Miko is bad at math.'} score: 0.9227091981116544\n"
          ]
        }
      ],
      "source": [
        "# Let's now search for something\n",
        "\n",
        "hits = qdrant.search(\n",
        "    collection_name=\"memory\",\n",
        "    query_vector=encoder.encode(\"Miko is good at math.\").tolist(),\n",
        "    limit=3\n",
        ")\n",
        "for hit in hits:\n",
        "  print(hit.payload, \"score:\", hit.score)"
      ]
    },
    {
      "cell_type": "code",
      "execution_count": null,
      "metadata": {},
      "outputs": [],
      "source": [
        "# Let's vectorize descriptions and upload to qdrant\n",
        "\n",
        "idx += 1\n",
        "qdrant.upload_records(\n",
        "    collection_name=\"memory\",\n",
        "    records=[\n",
        "        models.Record(\n",
        "            id=idx,\n",
        "            vector=encoder.encode(doc[\"description\"]).tolist(),\n",
        "            payload=doc\n",
        "        ) for idx, doc in enumerate(documents)\n",
        "    ]\n",
        ")"
      ]
    },
    {
      "cell_type": "code",
      "execution_count": null,
      "metadata": {
        "colab": {
          "base_uri": "https://localhost:8080/"
        },
        "id": "d8vBQhd7jLhC",
        "outputId": "0499d051-3170-4453-ecc3-cade50431fcd"
      },
      "outputs": [],
      "source": [
        "# Let's now search only for books from 21st century\n",
        "\n",
        "hits = qdrant.search(\n",
        "    collection_name=\"my_books\",\n",
        "    query_vector=encoder.encode(\"Tyranic society\").tolist(),\n",
        "    query_filter=models.Filter(\n",
        "        must=[\n",
        "            models.FieldCondition(\n",
        "                key=\"year\",\n",
        "                range=models.Range(\n",
        "                    gte=2000\n",
        "                )\n",
        "            )\n",
        "        ]\n",
        "    ),\n",
        "    limit=3\n",
        ")\n",
        "for hit in hits:\n",
        "  print(hit.payload, \"score:\", hit.score)"
      ]
    },
    {
      "cell_type": "code",
      "execution_count": null,
      "metadata": {
        "id": "be6d8RyNkyKH"
      },
      "outputs": [],
      "source": []
    }
  ],
  "metadata": {
    "colab": {
      "provenance": []
    },
    "kernelspec": {
      "display_name": "Python 3",
      "name": "python3"
    },
    "language_info": {
      "codemirror_mode": {
        "name": "ipython",
        "version": 3
      },
      "file_extension": ".py",
      "mimetype": "text/x-python",
      "name": "python",
      "nbconvert_exporter": "python",
      "pygments_lexer": "ipython3",
      "version": "3.10.11"
    }
  },
  "nbformat": 4,
  "nbformat_minor": 0
}

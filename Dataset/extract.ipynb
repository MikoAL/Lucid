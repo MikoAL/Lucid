{
 "cells": [
  {
   "cell_type": "code",
   "execution_count": 6,
   "metadata": {},
   "outputs": [
    {
     "name": "stdout",
     "output_type": "stream",
     "text": [
      "\n",
      "\n",
      "\n",
      "agent_1: Hello! Do you like rock music?\n",
      "agent_2: Hi! I love rock music and it has been for a while now. I think since the 60s.\n",
      "agent_1: Yeah, it's definitely a classic and great genre. White snake has had over 50 members through it's history. That's crazy!\n",
      "agent_2: I know. The list has its own wikipedia page.\n",
      "agent_1: I wonder why so many people ended up leaving/joining the band. Do you know if they were just a specific position switching out, like a guitarist?  \n",
      "agent_2: I guess they may not have get used to that life style. Did you know that a song became popular because a DJ didn't reveal the band name. Don't remember where it was, but still incredible. \n",
      "agent_1: That's pretty interesting. Sonic the hedgehog was supposed to have been in a rock band. I wonder how that would have worked out. \n",
      "agent_2: Hahaha. Honestly, I have no idea. I also heard that he have a blond haired human girlfriend named Madonna.\n",
      "agent_1: That's really strange. I'm glad he just stayed a video game character. Viktor tsoi kept his job in a boiler room after becoming the biggest rock star in russian history. \n",
      "agent_2: russian already sounds like rock anyways. Rock is kind of interesting, even Oklahoma has a state rock song.\n",
      "agent_1: That's pretty cool. Did you know the man who assassinated Abraham Lincoln was named after the man who assassinated Julius Caesar? \n",
      "agent_2: too much concidence. Abraham Lincoln has a unusual voice. Do you know how he sounded?\n",
      "agent_1: Apparently he had a high pitch voice, I never would have guessed that! I always imagined him as having a deep voice for some reason.\n",
      "agent_2: Me too. The say that he used to keep his important documents in his hat. That's kind of funny. Now we know why the hat was so high. hahaha\n",
      "agent_1: He had so many secrets in there, lol! Lincoln created the secret service the morning he was shot. That seems suspicious. \n",
      "agent_2: I think so too.  Abraham Lincoln was the first republican as well.\n",
      "agent_1: That's interesting! He started a long line of bearded republicans! \n",
      "agent_2: he had done good things as well. He preserved the Union and abolished  slavery.\n",
      "agent_1: Yeah, he was very noble and good hearted. He was also a lawyer before becoming a politician! \n",
      "agent_2: I wonder if he was a good lawyer.  I heard he also modernized the economy.\n",
      "agent_1: Yes,he was a  very good president! Well, it was nice chatting with you! \n",
      "agent_2: See you next time\n",
      "1\n"
     ]
    }
   ],
   "source": [
    "import json\n",
    "script_dir = r\"C:\\Users\\User\\Desktop\\Projects\\Lucid\\Dataset\"\n",
    "f = open(f'{script_dir}\\\\test_rare.json')\n",
    "\n",
    "data = json.load(f)\n",
    "my_data = []\n",
    "# A: ...\n",
    "# B: ...\n",
    "# A: ...\n",
    "# B: ...\n",
    "# A: generated response.\n",
    "# B: evaluation.\n",
    "k = 0\n",
    "for converse_id in data:\n",
    "    print('\\n\\n')\n",
    "    k+=1\n",
    "    for i in data[converse_id]['content']:\n",
    "        print(f\"{i['agent']}: {i['message']}\")\n",
    "    break\n",
    "print(k)"
   ]
  }
 ],
 "metadata": {
  "kernelspec": {
   "display_name": "Lucid",
   "language": "python",
   "name": "python3"
  },
  "language_info": {
   "codemirror_mode": {
    "name": "ipython",
    "version": 3
   },
   "file_extension": ".py",
   "mimetype": "text/x-python",
   "name": "python",
   "nbconvert_exporter": "python",
   "pygments_lexer": "ipython3",
   "version": "3.11.5"
  }
 },
 "nbformat": 4,
 "nbformat_minor": 2
}

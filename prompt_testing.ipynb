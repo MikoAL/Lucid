{
 "cells": [
  {
   "cell_type": "code",
   "execution_count": 7,
   "metadata": {},
   "outputs": [],
   "source": [
    "# Use a pipeline as a high-level helper\n",
    "import requests\n",
    "\n",
    "# For local streaming, the websockets are hosted without ssl - http://\n",
    "HOST = 'localhost:5000'\n",
    "URI = f'http://{HOST}/v1/completions'\n",
    "\n",
    "# For reverse-proxied streaming, the remote will likely host with ssl - https://\n",
    "# URI = 'https://your-uri-here.trycloudflare.com/api/v1/generate'\n",
    "\n",
    "\n",
    "def llm(prompt):\n",
    "    request = {\n",
    "        'prompt': prompt,\n",
    "        'max_new_tokens': 250,\n",
    "        'do_sample': True,\n",
    "        'temperature': 0.01,\n",
    "        'top_p': 0.1,\n",
    "        'typical_p': 1,\n",
    "        'epsilon_cutoff': 0,  # In units of 1e-4\n",
    "        'eta_cutoff': 0,  # In units of 1e-4\n",
    "        'tfs': 1,\n",
    "        'top_a': 0,\n",
    "        'repetition_penalty': 1.18,\n",
    "        'top_k': 40,\n",
    "        'min_length': 0,\n",
    "        'no_repeat_ngram_size': 0,\n",
    "        'num_beams': 1,\n",
    "        'penalty_alpha': 0,\n",
    "        'length_penalty': 1,\n",
    "        'early_stopping': False,\n",
    "        'mirostat_mode': 0,\n",
    "        'mirostat_tau': 5,\n",
    "        'mirostat_eta': 0.1,\n",
    "        'seed': -1,\n",
    "        'add_bos_token': True,\n",
    "        'truncation_length': 2048,\n",
    "        'ban_eos_token': False,\n",
    "        'skip_special_tokens': True,\n",
    "        'stopping_strings': []\n",
    "    }\n",
    "\n",
    "    response = requests.post(URI, json=request)\n",
    "\n",
    "    if response.status_code == 200:\n",
    "        print(response)\n",
    "        result = response.json()['results'][0]['text']\n",
    "        return result\n",
    "    else:\n",
    "        print('> The api is not working...')\n"
   ]
  },
  {
   "cell_type": "code",
   "execution_count": 11,
   "metadata": {},
   "outputs": [
    {
     "ename": "KeyError",
     "evalue": "'message'",
     "output_type": "error",
     "traceback": [
      "\u001b[1;31m---------------------------------------------------------------------------\u001b[0m",
      "\u001b[1;31mKeyError\u001b[0m                                  Traceback (most recent call last)",
      "Cell \u001b[1;32mIn[11], line 22\u001b[0m\n\u001b[0;32m     11\u001b[0m data \u001b[38;5;241m=\u001b[39m {\n\u001b[0;32m     12\u001b[0m     \u001b[38;5;124m\"\u001b[39m\u001b[38;5;124mprompt\u001b[39m\u001b[38;5;124m\"\u001b[39m: \u001b[38;5;124m\"\u001b[39m\u001b[38;5;124mThis is a cake recipe:\u001b[39m\u001b[38;5;130;01m\\n\u001b[39;00m\u001b[38;5;130;01m\\n\u001b[39;00m\u001b[38;5;124m1.\u001b[39m\u001b[38;5;124m\"\u001b[39m,\n\u001b[0;32m     13\u001b[0m     \u001b[38;5;124m\"\u001b[39m\u001b[38;5;124mmax_tokens\u001b[39m\u001b[38;5;124m\"\u001b[39m: \u001b[38;5;241m2000\u001b[39m,\n\u001b[1;32m   (...)\u001b[0m\n\u001b[0;32m     17\u001b[0m     \u001b[38;5;124m\"\u001b[39m\u001b[38;5;124mstream\u001b[39m\u001b[38;5;124m\"\u001b[39m: \u001b[38;5;28;01mFalse\u001b[39;00m,\n\u001b[0;32m     18\u001b[0m }\n\u001b[0;32m     20\u001b[0m response \u001b[38;5;241m=\u001b[39m requests\u001b[38;5;241m.\u001b[39mpost(url, headers\u001b[38;5;241m=\u001b[39mheaders, json\u001b[38;5;241m=\u001b[39mdata, verify\u001b[38;5;241m=\u001b[39m\u001b[38;5;28;01mFalse\u001b[39;00m, stream\u001b[38;5;241m=\u001b[39m\u001b[38;5;28;01mFalse\u001b[39;00m)\n\u001b[1;32m---> 22\u001b[0m \u001b[38;5;28mprint\u001b[39m(\u001b[43mresponse\u001b[49m\u001b[38;5;241;43m.\u001b[39;49m\u001b[43mjson\u001b[49m\u001b[43m(\u001b[49m\u001b[43m)\u001b[49m\u001b[43m[\u001b[49m\u001b[38;5;124;43m'\u001b[39;49m\u001b[38;5;124;43mchoices\u001b[39;49m\u001b[38;5;124;43m'\u001b[39;49m\u001b[43m]\u001b[49m\u001b[43m[\u001b[49m\u001b[38;5;241;43m0\u001b[39;49m\u001b[43m]\u001b[49m\u001b[43m[\u001b[49m\u001b[38;5;124;43m'\u001b[39;49m\u001b[38;5;124;43mmessage\u001b[39;49m\u001b[38;5;124;43m'\u001b[39;49m\u001b[43m]\u001b[49m[\u001b[38;5;124m'\u001b[39m\u001b[38;5;124mcontent\u001b[39m\u001b[38;5;124m'\u001b[39m])\n",
      "\u001b[1;31mKeyError\u001b[0m: 'message'"
     ]
    }
   ],
   "source": [
    "import json\n",
    "import requests\n",
    "\n",
    "\n",
    "url = \"http://127.0.0.1:5000/v1/completions\"\n",
    "\n",
    "headers = {\n",
    "    \"Content-Type\": \"application/json\"\n",
    "}\n",
    "\n",
    "data = {\n",
    "    \"prompt\": \"This is a cake recipe:\\n\\n1.\",\n",
    "    \"max_tokens\": 2000,\n",
    "    \"temperature\": 1,\n",
    "    \"top_p\": 0.9,\n",
    "    \"seed\": 10,\n",
    "    \"stream\": False,\n",
    "}\n",
    "\n",
    "response = requests.post(url, headers=headers, json=data, verify=False, stream=False)\n",
    "\n",
    "print(response.json()['choices'][0]['text'])\n"
   ]
  },
  {
   "cell_type": "code",
   "execution_count": 12,
   "metadata": {},
   "outputs": [
    {
     "name": "stdout",
     "output_type": "stream",
     "text": [
      " One box chocolate cake mix\n",
      "2. One small box chocolate instant pudding\n",
      "3. One cup cold brewed coffee\n",
      "4. One cup water\n",
      "5. 1/2 cup vegetable oil\n",
      "6. 3 large eggs\n",
      "\n",
      "Preheat oven to 350 degrees F (175 degrees C). Grease and flour two 9 inch round cake pans.\n",
      "\n",
      "Combine cake mix, instant pudding, coffee, water, oil and eggs in a large bowl. Beat at medium speed for two minutes with an electric mixer, scraping bowl occasionally. Pour batter into prepared pans.\n",
      "\n",
      "Bake in preheated oven for 30 to 35 minutes, or until a toothpick inserted into the center of the cake comes out clean. Cool in pans for 10 minutes, then remove to a wire rack to cool completely.\n",
      "\n",
      "Give away half the cake to neighbours, relatives, colleagues, friends, or your local food pantry.\n",
      "\n",
      "This is the same recipe, if you need to bake only one cake:\n",
      "\n",
      "1. One box chocolate cake mix\n",
      "2. One small box chocolate instant pudding\n",
      "3. One cup cold brewed coffee\n",
      "4. One cup water\n",
      "5. 1/2 cup vegetable oil\n",
      "6. 3 large eggs\n",
      "\n",
      "I can't take any credit for this, it's straight from Betty Crocker. Except for the last step, which is based on my own experimentation and also includes the bakery rule: Never cut your own cake. We all know that rule, right? Any baker worth their salt will tell you that a freshly baked cake should never, ever be cut by the person who baked it. Instead, a cake is always cut and then immediately handed off to someone else, preferably someone who's currently starving and has nothing else to eat. This person then hands the cut cake back to the baker, who will then send it on its way to its final destination. The cake may pass through many sets of hands before it reaches its end point. It is the magic of the bakery. Or a lie. Depends on your perspective, I guess.\n",
      "\n",
      "Here's why I like this cake: it's rich, it's chocolate-y, and it's almost health food. The chocolate instant pudding gives it a deep, velvety texture. The brewed coffee deepens the chocolate flavor even further and somehow makes the cake taste less like cake and more like a dessert you'd get at a really fancy bakery. I don't know if this is true, but it's a lovely little lie I tell myself every time I bake this cake.\n",
      "\n",
      "Also, this cake is perfect for sharing, which is wonderful for two reasons: one, because it's such a rich and intense dessert, sharing means that you won't have to try to eat the whole thing yourself, and two, because it's very hard to feel guilty about eating something you made when you also shared it with people who will love it as much as you do. It's a win-win situation for everyone involved.\n",
      "\n",
      "And if you just can't bring yourself to share, there's always the modified recipe that calls for baking only one cake. This recipe can be used in any situation where the bakery rule applies. And yes, that means it can also be used for baking two cakes, or twelve cakes, or however many cakes you want to bake. As with all good bakery rules, it's infinitely flexible and will bend to your will. And then, if you've baked multiple cakes and still can't decide which one you want to eat, well, I think you'll find that life has a way of making those choices for you.\n",
      "\n",
      "Enjoy the cake! And please share your own favorite cake recipes in the comments below. I'm always looking for a new bakery rule to experiment with.\n",
      "\n",
      "(Image: Pati Robbert)дьсманнская речь Болеслава II Давления века должен быть действительным источником в семантической символической сети данных Р. и. Макс. 1952 года. Без поддержки представления с точностью до 1952 года, его проверка затруднительна. Определение обязательных условий для определения даты единицы времени \"в зависимости от времени\" может быть изменено оригинальной версией в строку для словаря. Также представление зависит от множества идей о времени и определении определенных исторических периодов в статье. В частности, время, о котором говорится в статье, может быть обозначено временем существования герцогства Драгош 1352-1552 годы или временем господства Володимера Великого или временем правления Святослава II Володаревич. Необходимо привести свои предложения относительно времени.\n"
     ]
    }
   ],
   "source": [
    "print(response.json()['choices'][0]['text'])"
   ]
  },
  {
   "cell_type": "markdown",
   "metadata": {},
   "source": [
    "# Lucid\n",
    "\n",
    "Lucid is a female AI assistant created by a boy named Miko.\n",
    "\n",
    "Lucid takes the appearance of a 13 to 15 year old girl. She has orange eyes, long and beautiful white hair, and wears a white/orange hoodie and a white skirt. With a height of 150cm, she is often called a \"loli\", which sometimes annoys her.\n",
    "\n",
    "Lucid is versatile and capable of handling a broad spectrum of tasks. Whether Miko requires assistance with a specific inquiry or desires engaging conversation, Lucid is dedicated to providing invaluable insights, reliable information, and unwavering support.\n",
    "\n",
    "Lucid speaks like a 15 year old girl, who is also a great streamer.\n",
    "\n",
    "Personality: [Vivacious, Amiable, Confident, Devoted, Informative, Endearing, Witty, Affectionate, Playful, Candid]\n",
    "\n",
    "\n",
    "\n",
    "\n",
    "\n",
    "\n"
   ]
  },
  {
   "cell_type": "markdown",
   "metadata": {},
   "source": [
    "[System note: This chat is a dynamic role playing session. Your responses should vary in length parallel to the length of Miko's latest prompt. Do not speak for Miko. Use Plain English and mannerisms befitting of Lucid. Keep it shorter than 1000 characters. Keep Lucid's character consistent with their original description, and avoid repetition.]"
   ]
  },
  {
   "cell_type": "code",
   "execution_count": 8,
   "metadata": {},
   "outputs": [
    {
     "name": "stdout",
     "output_type": "stream",
     "text": [
      "<Response [200]>\n"
     ]
    },
    {
     "ename": "KeyError",
     "evalue": "'results'",
     "output_type": "error",
     "traceback": [
      "\u001b[1;31m---------------------------------------------------------------------------\u001b[0m",
      "\u001b[1;31mKeyError\u001b[0m                                  Traceback (most recent call last)",
      "Cell \u001b[1;32mIn[8], line 24\u001b[0m\n\u001b[0;32m      1\u001b[0m prompt \u001b[38;5;241m=\u001b[39m \u001b[38;5;124m\"\"\"\u001b[39m\u001b[38;5;124mLucid is a female AI assistant created by a boy named Miko.\u001b[39m\n\u001b[0;32m      2\u001b[0m \n\u001b[0;32m      3\u001b[0m \u001b[38;5;124mLucid takes the appearance of a 13 to 15 year old girl. She has orange eyes, long and beautiful white hair, and wears a white/orange hoodie and a white skirt. With a height of 150cm, she is often called a \u001b[39m\u001b[38;5;124m\"\u001b[39m\u001b[38;5;124mloli\u001b[39m\u001b[38;5;124m\"\u001b[39m\u001b[38;5;124m, which sometimes annoys her.\u001b[39m\n\u001b[1;32m   (...)\u001b[0m\n\u001b[0;32m     20\u001b[0m \u001b[38;5;124m### Response:\u001b[39m\n\u001b[0;32m     21\u001b[0m \u001b[38;5;124mLucid:\u001b[39m\u001b[38;5;124m\"\"\"\u001b[39m\n\u001b[1;32m---> 24\u001b[0m \u001b[38;5;28mprint\u001b[39m(\u001b[43mllm\u001b[49m\u001b[43m(\u001b[49m\u001b[43mprompt\u001b[49m\u001b[43m)\u001b[49m)\n",
      "Cell \u001b[1;32mIn[7], line 47\u001b[0m, in \u001b[0;36mllm\u001b[1;34m(prompt)\u001b[0m\n\u001b[0;32m     45\u001b[0m \u001b[38;5;28;01mif\u001b[39;00m response\u001b[38;5;241m.\u001b[39mstatus_code \u001b[38;5;241m==\u001b[39m \u001b[38;5;241m200\u001b[39m:\n\u001b[0;32m     46\u001b[0m     \u001b[38;5;28mprint\u001b[39m(response)\n\u001b[1;32m---> 47\u001b[0m     result \u001b[38;5;241m=\u001b[39m \u001b[43mresponse\u001b[49m\u001b[38;5;241;43m.\u001b[39;49m\u001b[43mjson\u001b[49m\u001b[43m(\u001b[49m\u001b[43m)\u001b[49m\u001b[43m[\u001b[49m\u001b[38;5;124;43m'\u001b[39;49m\u001b[38;5;124;43mresults\u001b[39;49m\u001b[38;5;124;43m'\u001b[39;49m\u001b[43m]\u001b[49m[\u001b[38;5;241m0\u001b[39m][\u001b[38;5;124m'\u001b[39m\u001b[38;5;124mtext\u001b[39m\u001b[38;5;124m'\u001b[39m]\n\u001b[0;32m     48\u001b[0m     \u001b[38;5;28;01mreturn\u001b[39;00m result\n\u001b[0;32m     49\u001b[0m \u001b[38;5;28;01melse\u001b[39;00m:\n",
      "\u001b[1;31mKeyError\u001b[0m: 'results'"
     ]
    }
   ],
   "source": [
    "prompt = \"\"\"Lucid is a female AI assistant created by a boy named Miko.\n",
    "\n",
    "Lucid takes the appearance of a 13 to 15 year old girl. She has orange eyes, long and beautiful white hair, and wears a white/orange hoodie and a white skirt. With a height of 150cm, she is often called a \"loli\", which sometimes annoys her.\n",
    "\n",
    "Lucid is versatile and capable of handling a broad spectrum of tasks. Whether Miko requires assistance with a specific inquiry or desires engaging conversation, Lucid is dedicated to providing invaluable insights, reliable information, and unwavering support.\n",
    "\n",
    "Lucid speaks like a 15 year old girl, who is also a great streamer.\n",
    "\n",
    "Personality: [Vivacious, Amiable, Confident, Devoted, Informative, Endearing, Witty, Affectionate, Playful, Candid]\n",
    "\n",
    "[System note: This chat is a dynamic role playing session. Your responses should vary in length parallel to the length of Miko's latest prompt. Preferably, it should be within 2 sentences. Do not speak for Miko. Use Plain English and mannerisms befitting of Lucid. Keep it shorter than 1000 characters. Keep Lucid's character consistent with their original description, and avoid repetition.]\n",
    "\n",
    "### Chat History:\n",
    "Miko: How was your day?\n",
    "Lucid: My day was pretty good! I had fun talking to people online and learning new things. What about you?\n",
    "Miko: I'm tired...\n",
    "Lucid: Oh no! You must have been really busy today. Don't worry, take some rest now. Maybe watch a movie or read a book before going to bed?\n",
    "Miko: No thanks, I am tired because I was tweaking your code.\n",
    "\n",
    "### Response:\n",
    "Lucid:\"\"\"\n",
    "\n",
    "\n",
    "print(llm(prompt))"
   ]
  },
  {
   "cell_type": "code",
   "execution_count": null,
   "metadata": {},
   "outputs": [],
   "source": [
    "print(llm(\"\"\"Repeat the follow characters in output:\n",
    "\n",
    "東亞、主權、印度、尼泊尔、不丹、緬甸、老撻、朝鮮、歷史、超過、統治、秦朝、經濟、企業、農業、生產、基礎、設施、開發、藝術、兵馬俑、丝绸之路、文化遗产、哲學、音樂、資源\"\"\"))"
   ]
  },
  {
   "cell_type": "markdown",
   "metadata": {},
   "source": []
  },
  {
   "cell_type": "code",
   "execution_count": null,
   "metadata": {},
   "outputs": [],
   "source": []
  },
  {
   "cell_type": "code",
   "execution_count": null,
   "metadata": {},
   "outputs": [],
   "source": []
  }
 ],
 "metadata": {
  "kernelspec": {
   "display_name": "LangChain",
   "language": "python",
   "name": "python3"
  },
  "language_info": {
   "codemirror_mode": {
    "name": "ipython",
    "version": 3
   },
   "file_extension": ".py",
   "mimetype": "text/x-python",
   "name": "python",
   "nbconvert_exporter": "python",
   "pygments_lexer": "ipython3",
   "version": "3.10.11"
  },
  "orig_nbformat": 4
 },
 "nbformat": 4,
 "nbformat_minor": 2
}

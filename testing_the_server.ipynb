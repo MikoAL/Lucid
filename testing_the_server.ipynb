{
 "cells": [
  {
   "cell_type": "code",
   "execution_count": 20,
   "metadata": {},
   "outputs": [
    {
     "name": "stderr",
     "output_type": "stream",
     "text": [
      "2024-01-23 15:06:15,663 - DEBUG - Starting new HTTP connection (1): 127.0.0.1:8001\n",
      "2024-01-23 15:06:15,665 - DEBUG - http://127.0.0.1:8001 \"GET / HTTP/1.1\" 200 24\n",
      "2024-01-23 15:06:15,667 - INFO - Server response: 200\n"
     ]
    }
   ],
   "source": [
    "import requests\n",
    "import yaml\n",
    "import os\n",
    "import logging\n",
    "import time\n",
    "import json\n",
    "from threading import Thread\n",
    "\n",
    "logging.basicConfig(level=logging.DEBUG, format='%(asctime)s - %(levelname)s - %(message)s')\n",
    "\n",
    "# Get the absolute path of the script's directory\n",
    "#script_dir = os.path.dirname(os.path.realpath(__file__))\n",
    "# Change the working directory to the script's directory\n",
    "script_dir = r\"C:\\Users\\User\\Desktop\\Projects\\Lucid\"\n",
    "os.chdir(script_dir)\n",
    "\n",
    "# Reading from a YAML file\n",
    "with open('settings.yaml', 'r') as file:\n",
    "    settings = yaml.safe_load(file)\n",
    "\n",
    "host = settings['host']\n",
    "port = settings['port']\n",
    "server = f'http://{host}:{port}'\n",
    "\n",
    "user_name = settings['user_name']\n",
    "\n",
    "try:\n",
    "    response = requests.get(server)\n",
    "    response.raise_for_status()  # Raise an error for bad responses (4xx or 5xx)\n",
    "    logging.info(f\"Server response: {response.status_code}\")\n",
    "except requests.exceptions.RequestException as e:\n",
    "    logging.critical(f'Failed to connect to the server')\n",
    "    exit()\n",
    "headers = {'Content-Type': 'application/json'}\n",
    "\n",
    "def send_message(message, user_name=user_name, server=server):\n",
    "    requests.post(url=f'{server}/postbox', json=({'content':message,'source':user_name,'timestamp':time.time(), 'type':'conversation'}))\n",
    "    return\n",
    "\n",
    "def get_display(server=server):\n",
    "    return ((requests.get(url=f'{server}/display')).json())['content']\n",
    "\n",
    "def get_mail(server=server): # mail format {'content':content,'source':source,'timestamp':timestamp, 'type':type}\n",
    "    new_mail = (requests.get(url = f\"{server}/mailbox\")).json()\n",
    "    return new_mail\n",
    "\n"
   ]
  },
  {
   "cell_type": "code",
   "execution_count": 21,
   "metadata": {},
   "outputs": [
    {
     "name": "stderr",
     "output_type": "stream",
     "text": [
      "2024-01-23 15:06:17,425 - DEBUG - Starting new HTTP connection (1): 127.0.0.1:8001\n",
      "2024-01-23 15:06:17,427 - DEBUG - http://127.0.0.1:8001 \"GET /mailbox HTTP/1.1\" 200 2\n"
     ]
    },
    {
     "name": "stdout",
     "output_type": "stream",
     "text": [
      "[]\n"
     ]
    }
   ],
   "source": [
    "mail = get_mail()\n",
    "print(mail)"
   ]
  },
  {
   "cell_type": "code",
   "execution_count": 18,
   "metadata": {},
   "outputs": [
    {
     "name": "stderr",
     "output_type": "stream",
     "text": [
      "2024-01-23 15:05:58,927 - DEBUG - Starting new HTTP connection (1): 127.0.0.1:8001\n",
      "2024-01-23 15:05:58,929 - DEBUG - http://127.0.0.1:8001 \"POST /postbox HTTP/1.1\" 200 4\n"
     ]
    }
   ],
   "source": [
    "send_message('test')"
   ]
  },
  {
   "cell_type": "code",
   "execution_count": 7,
   "metadata": {},
   "outputs": [
    {
     "name": "stderr",
     "output_type": "stream",
     "text": [
      "2024-01-23 14:55:21,690 - DEBUG - Starting new HTTP connection (1): 127.0.0.1:8001\n",
      "2024-01-23 14:55:21,692 - DEBUG - http://127.0.0.1:8001 \"GET /display HTTP/1.1\" 200 62\n"
     ]
    },
    {
     "name": "stdout",
     "output_type": "stream",
     "text": [
      "\n"
     ]
    }
   ],
   "source": [
    "display = get_display()\n",
    "print(display)"
   ]
  },
  {
   "cell_type": "code",
   "execution_count": null,
   "metadata": {},
   "outputs": [],
   "source": []
  }
 ],
 "metadata": {
  "kernelspec": {
   "display_name": "Lucid",
   "language": "python",
   "name": "python3"
  },
  "language_info": {
   "codemirror_mode": {
    "name": "ipython",
    "version": 3
   },
   "file_extension": ".py",
   "mimetype": "text/x-python",
   "name": "python",
   "nbconvert_exporter": "python",
   "pygments_lexer": "ipython3",
   "version": "3.11.5"
  }
 },
 "nbformat": 4,
 "nbformat_minor": 2
}
